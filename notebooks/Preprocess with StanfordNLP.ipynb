{
 "cells": [
  {
   "cell_type": "code",
   "execution_count": 88,
   "metadata": {
    "ExecuteTime": {
     "end_time": "2019-04-24T14:06:03.779657Z",
     "start_time": "2019-04-24T14:06:03.763082Z"
    }
   },
   "outputs": [],
   "source": [
    "import sys\n",
    "from importlib import reload\n",
    "import pickle\n",
    "import stanfordnlp\n",
    "sys.path.append(\"..\")\n",
    "from preprocessing.preprocess import StanfordNLPPreprocessor"
   ]
  },
  {
   "cell_type": "code",
   "execution_count": 29,
   "metadata": {
    "ExecuteTime": {
     "end_time": "2019-04-24T13:41:47.629164Z",
     "start_time": "2019-04-24T13:38:55.650735Z"
    }
   },
   "outputs": [
    {
     "name": "stdout",
     "output_type": "stream",
     "text": [
      "Use device: cpu\n",
      "---\n",
      "Loading: tokenize\n",
      "With settings: \n",
      "{'model_path': '/Users/atakan1/stanfordnlp_resources/tr_imst_models/tr_imst_tokenizer.pt', 'lang': 'tr', 'shorthand': 'tr_imst', 'mode': 'predict'}\n",
      "---\n",
      "Loading: mwt\n",
      "With settings: \n",
      "{'model_path': '/Users/atakan1/stanfordnlp_resources/tr_imst_models/tr_imst_mwt_expander.pt', 'lang': 'tr', 'shorthand': 'tr_imst', 'mode': 'predict'}\n",
      "Building an attentional Seq2Seq model...\n",
      "Using a Bi-LSTM encoder\n",
      "Using soft attention for LSTM.\n",
      "Finetune all embeddings.\n",
      "---\n",
      "Loading: pos\n",
      "With settings: \n",
      "{'model_path': '/Users/atakan1/stanfordnlp_resources/tr_imst_models/tr_imst_tagger.pt', 'pretrain_path': '/Users/atakan1/stanfordnlp_resources/tr_imst_models/tr_imst.pretrain.pt', 'lang': 'tr', 'shorthand': 'tr_imst', 'mode': 'predict'}\n",
      "---\n",
      "Loading: lemma\n",
      "With settings: \n",
      "{'model_path': '/Users/atakan1/stanfordnlp_resources/tr_imst_models/tr_imst_lemmatizer.pt', 'lang': 'tr', 'shorthand': 'tr_imst', 'mode': 'predict'}\n",
      "Building an attentional Seq2Seq model...\n",
      "Using a Bi-LSTM encoder\n",
      "Using soft attention for LSTM.\n",
      "Finetune all embeddings.\n",
      "[Running seq2seq lemmatizer with edit classifier]\n",
      "---\n",
      "Loading: depparse\n",
      "With settings: \n",
      "{'model_path': '/Users/atakan1/stanfordnlp_resources/tr_imst_models/tr_imst_parser.pt', 'pretrain_path': '/Users/atakan1/stanfordnlp_resources/tr_imst_models/tr_imst.pretrain.pt', 'lang': 'tr', 'shorthand': 'tr_imst', 'mode': 'predict'}\n",
      "Done loading processors!\n",
      "---\n"
     ]
    }
   ],
   "source": [
    "nlp = stanfordnlp.Pipeline(lang=\"tr\")"
   ]
  },
  {
   "cell_type": "markdown",
   "metadata": {},
   "source": [
    "# Sample Prerprocess"
   ]
  },
  {
   "cell_type": "markdown",
   "metadata": {},
   "source": [
    "## Initialize Paths"
   ]
  },
  {
   "cell_type": "code",
   "execution_count": 71,
   "metadata": {
    "ExecuteTime": {
     "end_time": "2019-04-24T13:54:41.245586Z",
     "start_time": "2019-04-24T13:54:41.240945Z"
    }
   },
   "outputs": [],
   "source": [
    "PARAGRAPH_PATH = \"../deliverables/sample_derlem.txt\"\n",
    "QUESTION_GROUPS_PATH = \"../deliverables/sample_soru_gruplari.txt\""
   ]
  },
  {
   "cell_type": "markdown",
   "metadata": {},
   "source": [
    "## Initialize preprocessor"
   ]
  },
  {
   "cell_type": "code",
   "execution_count": 89,
   "metadata": {
    "ExecuteTime": {
     "end_time": "2019-04-24T14:07:07.215611Z",
     "start_time": "2019-04-24T14:07:07.206560Z"
    }
   },
   "outputs": [],
   "source": [
    "preprocessor = StanfordNLPPreprocessor(nlp=nlp)"
   ]
  },
  {
   "cell_type": "markdown",
   "metadata": {},
   "source": [
    "## Read datasets"
   ]
  },
  {
   "cell_type": "code",
   "execution_count": 90,
   "metadata": {
    "ExecuteTime": {
     "end_time": "2019-04-24T14:07:26.293174Z",
     "start_time": "2019-04-24T14:07:26.282452Z"
    }
   },
   "outputs": [],
   "source": [
    "preprocessor.read_data(PARAGRAPH_PATH, QUESTION_GROUPS_PATH, encoding=\"utf-8\")"
   ]
  },
  {
   "cell_type": "markdown",
   "metadata": {},
   "source": [
    "## Parse Passages and Question Groups"
   ]
  },
  {
   "cell_type": "code",
   "execution_count": 73,
   "metadata": {
    "ExecuteTime": {
     "end_time": "2019-04-24T13:54:53.276333Z",
     "start_time": "2019-04-24T13:54:43.952418Z"
    }
   },
   "outputs": [],
   "source": [
    "preprocessor.parse_passage(sep=\"\\n\\n\")"
   ]
  },
  {
   "cell_type": "code",
   "execution_count": 74,
   "metadata": {
    "ExecuteTime": {
     "end_time": "2019-04-24T13:55:03.406049Z",
     "start_time": "2019-04-24T13:54:59.153945Z"
    }
   },
   "outputs": [],
   "source": [
    "preprocessor.parse_question_groups(sep=\"\\n\\n\")"
   ]
  },
  {
   "cell_type": "code",
   "execution_count": 64,
   "metadata": {
    "ExecuteTime": {
     "end_time": "2019-04-24T13:50:23.873543Z",
     "start_time": "2019-04-24T13:50:23.863023Z"
    }
   },
   "outputs": [
    {
     "name": "stdout",
     "output_type": "stream",
     "text": [
      "(\"Almanya'da\", '5', 'nmod')\n",
      "('hangi', '4', 'amod')\n",
      "('iklim', '4', 'nmod:poss')\n",
      "('şartları', '5', 'nsubj')\n",
      "('hakim', '0', 'root')\n",
      "('dir', '5', 'cop')\n",
      "('?', '5', 'punct')\n"
     ]
    }
   ],
   "source": [
    "prerprocessor.question_groups[1].questions[0].text.sentences[0].print_dependencies()"
   ]
  },
  {
   "cell_type": "markdown",
   "metadata": {},
   "source": [
    "## Save Preprocessed Data"
   ]
  },
  {
   "cell_type": "code",
   "execution_count": 93,
   "metadata": {
    "ExecuteTime": {
     "end_time": "2019-04-24T14:21:35.226463Z",
     "start_time": "2019-04-24T14:21:35.209614Z"
    }
   },
   "outputs": [],
   "source": [
    "prerprocessor.save_preprocessed_data(\"../preprocessed_data/sample_passages.pickle\", \"../preprocessed_data/sample_question_groups.pickle\")"
   ]
  },
  {
   "cell_type": "markdown",
   "metadata": {},
   "source": [
    "## Reload Preprocessed Data\n",
    "\n",
    "-  To Reload data\n",
    "    -  `stanfordnlp` library\n",
    "    -  `preprocessing` module\n",
    "\n",
    "  Must be included"
   ]
  },
  {
   "cell_type": "code",
   "execution_count": 78,
   "metadata": {
    "ExecuteTime": {
     "end_time": "2019-04-24T13:56:43.318183Z",
     "start_time": "2019-04-24T13:56:43.284281Z"
    }
   },
   "outputs": [],
   "source": [
    "with open(\"passages.pickle\", \"rb\") as f:\n",
    "    passages = pickle.load(f)"
   ]
  },
  {
   "cell_type": "code",
   "execution_count": 79,
   "metadata": {
    "ExecuteTime": {
     "end_time": "2019-04-24T13:56:48.379168Z",
     "start_time": "2019-04-24T13:56:48.370830Z"
    }
   },
   "outputs": [
    {
     "data": {
      "text/plain": [
       "{226: <stanfordnlp.pipeline.doc.Document at 0x1304ccbe0>,\n",
       " 227: <stanfordnlp.pipeline.doc.Document at 0x13064f0f0>,\n",
       " 228: <stanfordnlp.pipeline.doc.Document at 0x130663c18>,\n",
       " 229: <stanfordnlp.pipeline.doc.Document at 0x1306727f0>,\n",
       " 230: <stanfordnlp.pipeline.doc.Document at 0x13068e3c8>,\n",
       " 231: <stanfordnlp.pipeline.doc.Document at 0x1306b7470>,\n",
       " 232: <stanfordnlp.pipeline.doc.Document at 0x130458208>,\n",
       " 233: <stanfordnlp.pipeline.doc.Document at 0x1306ce0f0>}"
      ]
     },
     "execution_count": 79,
     "metadata": {},
     "output_type": "execute_result"
    }
   ],
   "source": [
    "passages"
   ]
  },
  {
   "cell_type": "code",
   "execution_count": 80,
   "metadata": {
    "ExecuteTime": {
     "end_time": "2019-04-24T13:57:32.617386Z",
     "start_time": "2019-04-24T13:57:32.604434Z"
    }
   },
   "outputs": [],
   "source": [
    "with open(\"question_groups.pickle\", \"rb\") as f:\n",
    "    question_groups = pickle.load(f)"
   ]
  },
  {
   "cell_type": "code",
   "execution_count": 87,
   "metadata": {
    "ExecuteTime": {
     "end_time": "2019-04-24T13:58:33.109159Z",
     "start_time": "2019-04-24T13:58:33.101167Z"
    }
   },
   "outputs": [
    {
     "name": "stdout",
     "output_type": "stream",
     "text": [
      "('ABD', '2', 'nmod:poss')\n",
      "('bağımsızlığını', '5', 'obj')\n",
      "('hangi', '4', 'amod')\n",
      "('yıl', '5', 'obl')\n",
      "('kazanmıştır', '0', 'root')\n",
      "('?', '5', 'punct')\n"
     ]
    }
   ],
   "source": [
    "question_groups[0].questions[0].text.sentences[0].print_dependencies()"
   ]
  },
  {
   "cell_type": "code",
   "execution_count": null,
   "metadata": {},
   "outputs": [],
   "source": []
  }
 ],
 "metadata": {
  "kernelspec": {
   "display_name": "Python 3",
   "language": "python",
   "name": "python3"
  },
  "language_info": {
   "codemirror_mode": {
    "name": "ipython",
    "version": 3
   },
   "file_extension": ".py",
   "mimetype": "text/x-python",
   "name": "python",
   "nbconvert_exporter": "python",
   "pygments_lexer": "ipython3",
   "version": "3.7.3"
  },
  "toc": {
   "base_numbering": 1,
   "nav_menu": {},
   "number_sections": true,
   "sideBar": true,
   "skip_h1_title": false,
   "title_cell": "Table of Contents",
   "title_sidebar": "Contents",
   "toc_cell": false,
   "toc_position": {},
   "toc_section_display": true,
   "toc_window_display": false
  }
 },
 "nbformat": 4,
 "nbformat_minor": 2
}

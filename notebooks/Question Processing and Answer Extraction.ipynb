{
 "cells": [
  {
   "cell_type": "code",
   "execution_count": 1,
   "metadata": {
    "ExecuteTime": {
     "end_time": "2019-05-24T10:41:24.137907Z",
     "start_time": "2019-05-24T10:41:22.093660Z"
    }
   },
   "outputs": [],
   "source": [
    "import copy\n",
    "import io\n",
    "import pickle\n",
    "import re\n",
    "import sys\n",
    "sys.path.append(\"..\")\n",
    "\n",
    "import matplotlib.pyplot as plt\n",
    "import pandas as pd\n",
    "import stanfordnlp\n",
    "\n",
    "import preprocessing"
   ]
  },
  {
   "cell_type": "code",
   "execution_count": 2,
   "metadata": {
    "ExecuteTime": {
     "end_time": "2019-05-24T10:42:30.563184Z",
     "start_time": "2019-05-24T10:41:24.140432Z"
    }
   },
   "outputs": [
    {
     "name": "stdout",
     "output_type": "stream",
     "text": [
      "Use device: cpu\n",
      "---\n",
      "Loading: tokenize\n",
      "With settings: \n",
      "{'model_path': '/Users/atakan1/stanfordnlp_resources/tr_imst_models/tr_imst_tokenizer.pt', 'lang': 'tr', 'shorthand': 'tr_imst', 'mode': 'predict'}\n",
      "---\n",
      "Loading: mwt\n",
      "With settings: \n",
      "{'model_path': '/Users/atakan1/stanfordnlp_resources/tr_imst_models/tr_imst_mwt_expander.pt', 'lang': 'tr', 'shorthand': 'tr_imst', 'mode': 'predict'}\n",
      "Building an attentional Seq2Seq model...\n",
      "Using a Bi-LSTM encoder\n",
      "Using soft attention for LSTM.\n",
      "Finetune all embeddings.\n",
      "---\n",
      "Loading: pos\n",
      "With settings: \n",
      "{'model_path': '/Users/atakan1/stanfordnlp_resources/tr_imst_models/tr_imst_tagger.pt', 'pretrain_path': '/Users/atakan1/stanfordnlp_resources/tr_imst_models/tr_imst.pretrain.pt', 'lang': 'tr', 'shorthand': 'tr_imst', 'mode': 'predict'}\n",
      "---\n",
      "Loading: lemma\n",
      "With settings: \n",
      "{'model_path': '/Users/atakan1/stanfordnlp_resources/tr_imst_models/tr_imst_lemmatizer.pt', 'lang': 'tr', 'shorthand': 'tr_imst', 'mode': 'predict'}\n",
      "Building an attentional Seq2Seq model...\n",
      "Using a Bi-LSTM encoder\n",
      "Using soft attention for LSTM.\n",
      "Finetune all embeddings.\n",
      "[Running seq2seq lemmatizer with edit classifier]\n",
      "---\n",
      "Loading: depparse\n",
      "With settings: \n",
      "{'model_path': '/Users/atakan1/stanfordnlp_resources/tr_imst_models/tr_imst_parser.pt', 'pretrain_path': '/Users/atakan1/stanfordnlp_resources/tr_imst_models/tr_imst.pretrain.pt', 'lang': 'tr', 'shorthand': 'tr_imst', 'mode': 'predict'}\n",
      "Done loading processors!\n",
      "---\n"
     ]
    }
   ],
   "source": [
    "nlp = stanfordnlp.Pipeline(lang=\"tr\")"
   ]
  },
  {
   "cell_type": "code",
   "execution_count": 3,
   "metadata": {
    "ExecuteTime": {
     "end_time": "2019-05-24T10:42:30.621552Z",
     "start_time": "2019-05-24T10:42:30.590547Z"
    }
   },
   "outputs": [],
   "source": [
    "QUESTION_GROUPS_PATH = \"../preprocessed_data/question_groups.pickle\"\n",
    "PASSAGES_PATH = \"../preprocessed_data/passages.pickle\"\n",
    "WORD_VECTORS_PATH = \"../cc.tr.300.vec\""
   ]
  },
  {
   "cell_type": "code",
   "execution_count": 4,
   "metadata": {
    "ExecuteTime": {
     "end_time": "2019-05-24T10:42:36.336839Z",
     "start_time": "2019-05-24T10:42:30.623567Z"
    }
   },
   "outputs": [],
   "source": [
    "with open(PASSAGES_PATH, \"rb\") as f:\n",
    "    passages = pickle.load(f)"
   ]
  },
  {
   "cell_type": "code",
   "execution_count": 5,
   "metadata": {
    "ExecuteTime": {
     "end_time": "2019-05-24T10:42:37.147702Z",
     "start_time": "2019-05-24T10:42:36.339022Z"
    }
   },
   "outputs": [],
   "source": [
    "with open(QUESTION_GROUPS_PATH, \"rb\") as f:\n",
    "    question_groups = pickle.load(f)"
   ]
  },
  {
   "cell_type": "code",
   "execution_count": 6,
   "metadata": {
    "ExecuteTime": {
     "end_time": "2019-05-24T10:42:37.153290Z",
     "start_time": "2019-05-24T10:42:37.150197Z"
    }
   },
   "outputs": [],
   "source": [
    "q_number = 10"
   ]
  },
  {
   "cell_type": "code",
   "execution_count": 7,
   "metadata": {
    "ExecuteTime": {
     "end_time": "2019-05-24T10:42:37.159861Z",
     "start_time": "2019-05-24T10:42:37.156607Z"
    }
   },
   "outputs": [],
   "source": [
    "sent = question_groups[q_number].questions[0].text.sentences[0]"
   ]
  },
  {
   "cell_type": "code",
   "execution_count": 8,
   "metadata": {
    "ExecuteTime": {
     "end_time": "2019-05-24T10:42:37.170165Z",
     "start_time": "2019-05-24T10:42:37.161791Z"
    }
   },
   "outputs": [
    {
     "data": {
      "text/plain": [
       "'Ülkemizde bakır yatakları nerelerde bulunmaktadır?'"
      ]
     },
     "execution_count": 8,
     "metadata": {},
     "output_type": "execute_result"
    }
   ],
   "source": [
    "question_groups[q_number].questions[0].text.text"
   ]
  },
  {
   "cell_type": "code",
   "execution_count": 9,
   "metadata": {
    "ExecuteTime": {
     "end_time": "2019-05-24T10:42:37.177649Z",
     "start_time": "2019-05-24T10:42:37.172322Z"
    }
   },
   "outputs": [
    {
     "data": {
      "text/plain": [
       "[(<Word index=5;text=bulunmaktadır;lemma=bulun;upos=VERB;xpos=Verb;feats=Aspect=Prog|Mood=Gen|Number=Sing|Person=3|Polarity=Pos|Polite=Form|Tense=Pres;governor=0;dependency_relation=root>,\n",
       "  'obl',\n",
       "  <Word index=1;text=Ülkemizde;lemma=ülke;upos=NOUN;xpos=Noun;feats=Case=Loc|Number=Sing|Number[psor]=Plur|Person=3|Person[psor]=1;governor=5;dependency_relation=obl>),\n",
       " (<Word index=3;text=yatakları;lemma=yatak;upos=NOUN;xpos=Noun;feats=Case=Nom|Number=Plur|Number[psor]=Sing|Person=3|Person[psor]=3;governor=5;dependency_relation=nsubj>,\n",
       "  'nmod:poss',\n",
       "  <Word index=2;text=bakır;lemma=bakır;upos=NOUN;xpos=Noun;feats=Case=Nom|Number=Sing|Person=3;governor=3;dependency_relation=nmod:poss>),\n",
       " (<Word index=5;text=bulunmaktadır;lemma=bulun;upos=VERB;xpos=Verb;feats=Aspect=Prog|Mood=Gen|Number=Sing|Person=3|Polarity=Pos|Polite=Form|Tense=Pres;governor=0;dependency_relation=root>,\n",
       "  'nsubj',\n",
       "  <Word index=3;text=yatakları;lemma=yatak;upos=NOUN;xpos=Noun;feats=Case=Nom|Number=Plur|Number[psor]=Sing|Person=3|Person[psor]=3;governor=5;dependency_relation=nsubj>),\n",
       " (<Word index=5;text=bulunmaktadır;lemma=bulun;upos=VERB;xpos=Verb;feats=Aspect=Prog|Mood=Gen|Number=Sing|Person=3|Polarity=Pos|Polite=Form|Tense=Pres;governor=0;dependency_relation=root>,\n",
       "  'obl',\n",
       "  <Word index=4;text=nerelerde;lemma=nere;upos=PRON;xpos=Ques;feats=Case=Loc|Number=Plur|Person=3;governor=5;dependency_relation=obl>),\n",
       " (<Word index=0;text=ROOT>,\n",
       "  'root',\n",
       "  <Word index=5;text=bulunmaktadır;lemma=bulun;upos=VERB;xpos=Verb;feats=Aspect=Prog|Mood=Gen|Number=Sing|Person=3|Polarity=Pos|Polite=Form|Tense=Pres;governor=0;dependency_relation=root>),\n",
       " (<Word index=5;text=bulunmaktadır;lemma=bulun;upos=VERB;xpos=Verb;feats=Aspect=Prog|Mood=Gen|Number=Sing|Person=3|Polarity=Pos|Polite=Form|Tense=Pres;governor=0;dependency_relation=root>,\n",
       "  'punct',\n",
       "  <Word index=6;text=?;lemma=?;upos=PUNCT;xpos=Punc;feats=_;governor=5;dependency_relation=punct>)]"
      ]
     },
     "execution_count": 9,
     "metadata": {},
     "output_type": "execute_result"
    }
   ],
   "source": [
    "sent.dependencies"
   ]
  },
  {
   "cell_type": "code",
   "execution_count": 10,
   "metadata": {
    "ExecuteTime": {
     "end_time": "2019-05-24T10:42:37.183733Z",
     "start_time": "2019-05-24T10:42:37.179624Z"
    }
   },
   "outputs": [
    {
     "data": {
      "text/plain": [
       "1499"
      ]
     },
     "execution_count": 10,
     "metadata": {},
     "output_type": "execute_result"
    }
   ],
   "source": [
    "len(question_groups)"
   ]
  },
  {
   "cell_type": "markdown",
   "metadata": {},
   "source": [
    "# Question Processing"
   ]
  },
  {
   "cell_type": "code",
   "execution_count": 279,
   "metadata": {
    "ExecuteTime": {
     "end_time": "2019-05-24T21:54:16.530396Z",
     "start_time": "2019-05-24T21:54:16.382039Z"
    }
   },
   "outputs": [],
   "source": [
    "q_words = {\n",
    "#     \"hangisidir\": [],\n",
    "#     \"hangi tarih\": [],\n",
    "#     \"hangi yıl\": [],\n",
    "#     \"hangi dönem\": [],\n",
    "#     \"hangi çağ\": [],\n",
    "#     \"hangi bölge\": [],\n",
    "#     \"hangi il\": [],\n",
    "#     \"hangi şehir\": [],\n",
    "#     \"hangi ülke\": [],\n",
    "#     \"hangi\": [],\n",
    "#     \"ne denir\": [],\n",
    "#     \"ne kadar\": [],\n",
    "#     \"ne ad verilir\": [],\n",
    "#     \"ne zaman\":[],\n",
    "#     \"nedir\": [],\n",
    "#     \"nelerdir\": [],\n",
    "#     \"neden\": [],\n",
    "#     \"nere\": [],\n",
    "#     \"nasıl\": [],\n",
    "#     \"kaç yıl\": [],\n",
    "#     \"kaç\": [],\n",
    "#     \"kim\": [],\n",
    "#     \"ne\": [],\n",
    "#     \"denir\": [],\n",
    "#     \" mi\": [],\n",
    "#     \" mı\": [],\n",
    "#     \"other\": []\n",
    "    \"nedir\": [],\n",
    "    \"verilir\": [],\n",
    "    \"hangisidir\": [],\n",
    "    \"hangi\": [],\n",
    "    \"denir\": [],\n",
    "    \"kaç\": [],\n",
    "    \"nasıl\": [],\n",
    "    \"neden\": [],\n",
    "    \"nere\": [],\n",
    "    \"kadardır\": [],\n",
    "    \"ne\": [],\n",
    "    \"generic\": [],\n",
    "}\n",
    "\n",
    "for qg in question_groups:\n",
    "    for q in qg.questions:\n",
    "        raw = q.text.text.casefold()\n",
    "        classified = False\n",
    "        for q_word in q_words:\n",
    "            if not classified and q_word != \"generic\" and q_word in raw:\n",
    "                q_words[q_word].append(q.idx)\n",
    "                classified = True\n",
    "                \n",
    "        if not classified:\n",
    "            q_words[\"generic\"].append(q.idx)\n",
    "     "
   ]
  },
  {
   "cell_type": "code",
   "execution_count": 280,
   "metadata": {
    "ExecuteTime": {
     "end_time": "2019-05-24T21:54:16.887684Z",
     "start_time": "2019-05-24T21:54:16.883744Z"
    }
   },
   "outputs": [],
   "source": [
    "total = 0\n",
    "for _list in q_words.values():\n",
    "    total += len(_list)"
   ]
  },
  {
   "cell_type": "code",
   "execution_count": 281,
   "metadata": {
    "ExecuteTime": {
     "end_time": "2019-05-24T21:54:17.379782Z",
     "start_time": "2019-05-24T21:54:17.372002Z"
    }
   },
   "outputs": [
    {
     "data": {
      "text/plain": [
       "1795"
      ]
     },
     "execution_count": 281,
     "metadata": {},
     "output_type": "execute_result"
    }
   ],
   "source": [
    "total"
   ]
  },
  {
   "cell_type": "code",
   "execution_count": 282,
   "metadata": {
    "ExecuteTime": {
     "end_time": "2019-05-24T21:54:18.056382Z",
     "start_time": "2019-05-24T21:54:18.044780Z"
    }
   },
   "outputs": [],
   "source": [
    "_lens = []\n",
    "_classes = list(q_words.keys())\n",
    "for _class in _classes:\n",
    "    _lens.append(len(q_words[_class]))"
   ]
  },
  {
   "cell_type": "code",
   "execution_count": 283,
   "metadata": {
    "ExecuteTime": {
     "end_time": "2019-05-24T21:54:19.489434Z",
     "start_time": "2019-05-24T21:54:19.077778Z"
    }
   },
   "outputs": [
    {
     "data": {
      "text/plain": [
       "([<matplotlib.axis.XTick at 0x242f74b38>,\n",
       "  <matplotlib.axis.XTick at 0x242f762b0>,\n",
       "  <matplotlib.axis.XTick at 0x242f76860>,\n",
       "  <matplotlib.axis.XTick at 0x242d919e8>,\n",
       "  <matplotlib.axis.XTick at 0x242d91320>,\n",
       "  <matplotlib.axis.XTick at 0x242d86898>,\n",
       "  <matplotlib.axis.XTick at 0x242d7b1d0>,\n",
       "  <matplotlib.axis.XTick at 0x242d830b8>,\n",
       "  <matplotlib.axis.XTick at 0x242d7a128>,\n",
       "  <matplotlib.axis.XTick at 0x242d8c4e0>,\n",
       "  <matplotlib.axis.XTick at 0x242d8c7b8>,\n",
       "  <matplotlib.axis.XTick at 0x242d8c3c8>],\n",
       " <a list of 12 Text xticklabel objects>)"
      ]
     },
     "execution_count": 283,
     "metadata": {},
     "output_type": "execute_result"
    },
    {
     "data": {
      "image/png": "[encoded data removed]",
      "text/plain": [
       "<Figure size 432x288 with 1 Axes>"
      ]
     },
     "metadata": {
      "needs_background": "light"
     },
     "output_type": "display_data"
    }
   ],
   "source": [
    "plt.bar(range(len(_classes)), _lens)\n",
    "plt.xticks(range(len(_classes)), _classes, rotation=90)"
   ]
  },
  {
   "cell_type": "code",
   "execution_count": 284,
   "metadata": {
    "ExecuteTime": {
     "end_time": "2019-05-24T21:54:27.050745Z",
     "start_time": "2019-05-24T21:54:27.029348Z"
    }
   },
   "outputs": [],
   "source": [
    "question_dict = {}\n",
    "for qg in question_groups:\n",
    "    for q in qg.questions:\n",
    "        question_dict[q.idx] = q, qg.answer, qg.related_par_id"
   ]
  },
  {
   "cell_type": "code",
   "execution_count": 215,
   "metadata": {
    "ExecuteTime": {
     "end_time": "2019-05-24T14:47:26.019283Z",
     "start_time": "2019-05-24T14:47:24.488916Z"
    }
   },
   "outputs": [
    {
     "name": "stdout",
     "output_type": "stream",
     "text": [
      "('Yeryüzünde', '3', 'nmod')\n",
      "('ki', '1', 'case')\n",
      "('kayaçlar', '7', 'nsubj')\n",
      "('kaç', '6', 'amod')\n",
      "('ana', '6', 'amod')\n",
      "('grupta', '7', 'obl')\n",
      "('sınıflandırılır', '0', 'root')\n",
      "('?', '7', 'punct')\n"
     ]
    },
    {
     "data": {
      "text/plain": [
       "[<Word index=1;text=Yeryüzünde;lemma=yeryüzü;upos=NOUN;xpos=Noun;feats=Case=Loc|Number=Sing|Number[psor]=Sing|Person=3|Person[psor]=3;governor=3;dependency_relation=nmod>,\n",
       " <Word index=2;text=ki;lemma=ki;upos=ADP;xpos=Rel;feats=_;governor=1;dependency_relation=case>,\n",
       " <Word index=3;text=kayaçlar;lemma=kayaç;upos=NOUN;xpos=Noun;feats=Case=Nom|Number=Plur|Person=3;governor=7;dependency_relation=nsubj>,\n",
       " <Word index=4;text=kaç;lemma=kaç;upos=ADJ;xpos=Adj;feats=_;governor=6;dependency_relation=amod>,\n",
       " <Word index=5;text=ana;lemma=ana;upos=ADJ;xpos=Adj;feats=_;governor=6;dependency_relation=amod>,\n",
       " <Word index=6;text=grupta;lemma=grup;upos=NOUN;xpos=Noun;feats=Case=Loc|Number=Sing|Person=3;governor=7;dependency_relation=obl>,\n",
       " <Word index=7;text=sınıflandırılır;lemma=sınıflan;upos=VERB;xpos=Verb;feats=Aspect=Imp|Mood=Ind|Number=Sing|Person=3|Polarity=Pos|Tense=Aor|Voice=Pass;governor=0;dependency_relation=root>,\n",
       " <Word index=8;text=?;lemma=?;upos=PUNCT;xpos=Punc;feats=_;governor=7;dependency_relation=punct>]"
      ]
     },
     "execution_count": 215,
     "metadata": {},
     "output_type": "execute_result"
    }
   ],
   "source": [
    "ss = \"Yeryüzündeki kayaçlar kaç ana grupta sınıflandırılır?\"\n",
    "dd = nlp(ss)\n",
    "\n",
    "dd.sentences[0].print_dependencies()\n",
    "dd.sentences[0].words"
   ]
  },
  {
   "cell_type": "code",
   "execution_count": 240,
   "metadata": {
    "ExecuteTime": {
     "end_time": "2019-05-24T15:33:54.728258Z",
     "start_time": "2019-05-24T15:33:54.709252Z"
    }
   },
   "outputs": [],
   "source": [
    "def find_root(sentence):\n",
    "    for word in sentence.words:\n",
    "        if word.governor == 0:\n",
    "            return int(word.index)\n",
    "    return 0\n",
    "\n",
    "\n",
    "def find_subject(sentence):\n",
    "    root_idx = find_root(sentence)\n",
    "    subjects = []\n",
    "    if root_idx > 0:\n",
    "        for word in sentence.words:\n",
    "            if word.governor == root_idx and word.dependency_relation == \"nsubj\":\n",
    "                subjects.append(int(word.index))\n",
    "                \n",
    "    return subjects\n",
    "\n",
    "\n",
    "def find_related_words(sentence, idx):\n",
    "    idx_ = []\n",
    "\n",
    "    while idx_ != idx:\n",
    "        idx_ = copy.deepcopy(idx)\n",
    "        for word in sentence.words:\n",
    "            if word.governor in idx and int(word.index) not in idx:\n",
    "                idx.append(int(word.index))\n",
    "                \n",
    "    return idx\n",
    "            \n",
    "\n",
    "def find_left_child(sentence, idx):\n",
    "    for word in sentence.words:\n",
    "        if word.governor == idx and word.dependency_relation == \"obl\":\n",
    "            return int(word.index)\n",
    "        \n",
    "    return -1\n",
    "\n",
    "def find_relation(sentence, idx, relation):\n",
    "    related_idx = []\n",
    "    for word in sentence.words:\n",
    "        if isinstance(idx, int):\n",
    "            if word.governor == idx and word.dependency_relation == relation:\n",
    "                related_idx.append(int(word.index))\n",
    "        elif isinstance(idx, list):\n",
    "            if word.governor in idx and word.dependency_relation == relation:\n",
    "                related_idx.append(int(word.index))           \n",
    "            \n",
    "    return related_idx\n",
    "\n",
    "\n",
    "def construct_answer_from_idx(sentence, idx):\n",
    "    return \" \".join([word.text for word in sentence.words if int(word.index) in idx])\n",
    "\n",
    "def construct_sentence(sentence, question):\n",
    "    return \" \".join([word.text for word in sentence.words if not check_word_in_question(word, question) and word.upos != \"PUNCT\"])"
   ]
  },
  {
   "cell_type": "code",
   "execution_count": 143,
   "metadata": {
    "ExecuteTime": {
     "end_time": "2019-05-24T12:30:01.184416Z",
     "start_time": "2019-05-24T12:30:01.179918Z"
    }
   },
   "outputs": [],
   "source": [
    "def find_child(sentence, idx, relation):\n",
    "    for word in sentence.words:\n",
    "        if word.governor == idx and word.dependency_relation == relation:\n",
    "            return int(word.index)\n",
    "    \n",
    "    return -1\n"
   ]
  },
  {
   "cell_type": "code",
   "execution_count": 244,
   "metadata": {
    "ExecuteTime": {
     "end_time": "2019-05-24T15:40:49.402460Z",
     "start_time": "2019-05-24T15:40:49.349323Z"
    }
   },
   "outputs": [],
   "source": [
    "def find_q_focus(question):\n",
    "    # Question as stanford nlp doc\n",
    "    question_text = question.text.lower()\n",
    "    question_sent = question.sentences[0]\n",
    "    if \"nedir\" in question_text:\n",
    "        def check_dep(word):\n",
    "            return word.dependency_relation in [\"amod\", \"nmod:poss\"]\n",
    "        root = find_root(question_sent)\n",
    "\n",
    "        if question_sent.words[root - 1].text.lower() == \"ned\":\n",
    "            \n",
    "            subj = find_relation(question_sent, root, \"nsubj\")\n",
    "            if subj:\n",
    "                idx = find_related_words(question_sent, subj)\n",
    "                idx.sort()\n",
    "                return \" \".join([question_sent.words[id_ - 1].text for id_ in idx if check_dep(question_sent.words[id_ - 1]) or question_sent.words[id_ - 1].dependency_relation == \"nsubj\"])\n",
    "            obj = find_relation(question_sent, root, \"obj\")\n",
    "            if obj:\n",
    "                idx = find_related_words(question_sent, obj)\n",
    "                idx.sort()\n",
    "                return \" \".join([question_sent.words[id_ - 1].text for id_ in idx if check_dep(question_sent.words[id_ - 1]) or question_sent.words[id_ - 1].dependency_relation == \"obj\"])\n",
    "\n",
    "                \n",
    "        aux = find_child(question_sent, root, \"aux:q\")\n",
    "        if aux > 0 and question_sent.words[aux - 1].text == \"nedir\":\n",
    "            return \" \".join([word.text for word in question_sent.words if check_dep(word) or word.governor == 0])\n",
    "    \n",
    "    elif \"verilir\" in question_text:\n",
    "        root = find_root(question_sent)\n",
    "        nmod = find_relation(question_sent, root, \"nmod\")\n",
    "        idx = []\n",
    "        for id_ in nmod:\n",
    "            if \"Dat\" in question_sent.words[id_ - 1].feats:\n",
    "                idx.append(id_)\n",
    "                \n",
    "        if root not in idx:\n",
    "            idx.append(root)\n",
    "            \n",
    "            return construct_answer_from_idx(question_sent, idx)\n",
    "        \n",
    "    elif \"hangisidir\" in question_text:\n",
    "        subj = find_subject(question_sent)\n",
    "        \n",
    "        def check_dep(word):\n",
    "            dep_rel = word.dependency_relation\n",
    "            return \"cl\" in dep_rel or \"poss\" in dep_rel\n",
    "        \n",
    "        if subj:\n",
    "            subj_ = copy.deepcopy(subj)\n",
    "            idx = find_related_words(question_sent, subj)\n",
    "            idx = [id_ for id_ in idx if check_dep(question_sent.words[id_ - 1])] + subj_\n",
    "            return construct_answer_from_idx(question_sent, idx)\n",
    "        root = find_root(question_sent)\n",
    "        nmodposs = find_relation(question_sent, root, \"nmod:poss\")\n",
    "        if nmodposs:\n",
    "            return construct_answer_from_idx(question_sent, nmodposs)\n",
    "        \n",
    "        obj = find_relation(question_sent, root, \"obj\")\n",
    "        if obj:\n",
    "            return construct_answer_from_idx(question_sent, obj)\n",
    "\n",
    "    elif \"hangi\" in question_text:\n",
    "        key_word = -1\n",
    "        for word in question_sent.words:\n",
    "            if \"hangi\" in word.text.lower():\n",
    "                key_word = int(word.index)\n",
    "                break\n",
    "                \n",
    "        if key_word > 0:\n",
    "            idx = []\n",
    "            words = question_sent.words\n",
    "            cur_word = words[words[key_word - 1].governor - 1]\n",
    "            idx.append(int(cur_word.index))\n",
    "            while cur_word.governor > 0:\n",
    "                cur_word = words[cur_word.governor - 1]\n",
    "                idx.append(int(cur_word.index))\n",
    "            \n",
    "            if idx:\n",
    "                return construct_answer_from_idx(question_sent, idx)\n",
    "    \n",
    "    elif \"denir\" in question_text:\n",
    "        root = find_root(question_sent)\n",
    "        nmod = find_relation(question_sent, root, \"nmod\")\n",
    "        if nmod:\n",
    "            return construct_answer_from_idx(question_sent, nmod)\n",
    "        amod = find_relation(question_sent, root, \"amod\")\n",
    "        if amod:\n",
    "            return construct_answer_from_idx(question_sent, amod)\n",
    "        obl = find_relation(question_sent, root, \"obl\")\n",
    "        if obl:\n",
    "            return construct_answer_from_idx(question_sent, obl)\n",
    "    \n",
    "    elif \"kaç\" in question_text:\n",
    "        key_word = -1\n",
    "        for word in question_sent.words:\n",
    "            if \"kaç\" in word.text.lower():\n",
    "                key_word = int(word.index)\n",
    "                break\n",
    "        \n",
    "        if key_word > 0:\n",
    "            idx = []\n",
    "            words = question_sent.words\n",
    "            cur_word = words[words[key_word - 1].governor - 1]\n",
    "            idx.append(int(cur_word.index))\n",
    "            while cur_word.governor > 0:\n",
    "                cur_word = words[cur_word.governor - 1]\n",
    "                idx.append(int(cur_word.index))\n",
    "            \n",
    "            if idx:\n",
    "                return construct_answer_from_idx(question_sent, idx)\n",
    "            \n",
    "    elif \"kadardır\" in question_text:\n",
    "        root = find_root(question_sent)\n",
    "        cop = find_relation(question_sent, root, \"cop\")\n",
    "        punct = find_relation(question_sent, root, \"punct\")\n",
    "        \n",
    "        root = [root] + cop + punct\n",
    "        subj = find_relation(question_sent, root, \"nsubj\")\n",
    "\n",
    "        if subj:\n",
    "            return construct_answer_from_idx(question_sent, subj)\n",
    "    \n",
    "    else:\n",
    "        root = find_root(question_sent)\n",
    "        cop = find_relation(question_sent, root, \"cop\")\n",
    "        punct = find_relation(question_sent, root, \"punct\")\n",
    "        root = [root] + cop + punct\n",
    "        \n",
    "        subj = find_relation(question_sent, root, \"nsubj\")\n",
    "        poss = find_relation(question_sent, subj, \"nmod:poss\")\n",
    "        acl = find_relation(question_sent, subj, \"acl\")\n",
    "        advcl = find_relation(question_sent, subj, \"advcl\")\n",
    "        \n",
    "        idx = subj + poss + acl + advcl\n",
    "        if idx:\n",
    "            return construct_answer_from_idx(question_sent, idx)\n",
    "\n",
    "    return \" \".join([word.text for word in question_sent.words if word.dependency_relation != \"punct\"])\n",
    "            "
   ]
  },
  {
   "cell_type": "code",
   "execution_count": 253,
   "metadata": {
    "ExecuteTime": {
     "end_time": "2019-05-24T21:17:50.694027Z",
     "start_time": "2019-05-24T21:17:50.690242Z"
    }
   },
   "outputs": [],
   "source": [
    "import re"
   ]
  },
  {
   "cell_type": "code",
   "execution_count": 285,
   "metadata": {
    "ExecuteTime": {
     "end_time": "2019-05-24T21:54:36.213912Z",
     "start_time": "2019-05-24T21:54:36.198246Z"
    }
   },
   "outputs": [
    {
     "name": "stdout",
     "output_type": "stream",
     "text": [
      "Gökçeada Cittaslow ünvanını almış mıdır?\n",
      "Gökçeada Cittaslow ünvanını almış mıdır\n",
      "Arpa buğdaya göre soğuğa ve kuraklığa daha az mı dayanıklı?\n",
      "Arpa buğdaya göre soğuğa ve kuraklığa daha az mı dayanık lı\n",
      "Kültürel özellikler de ekonomik faaliyetlerden etkilenir mi?\n",
      "özellikler\n",
      "Hititlerde tarım alanları kim adına işlenmiştir?\n",
      "Hititlerde tarım alan ları kim adına işlenmiştir\n",
      "Pakistan'daki sulama kanalları kimler tarafından yaptırılmıştır?\n",
      "sulama kanalları\n",
      "Ükemizde tarımı destekleyen kuruluş sayısı az mıdır?\n",
      "destekleyen kuruluş sayısı\n",
      "Buğday her mevsimi yağışlı olan Doğu Karadeniz kıyılarında yetiştirilir mi?\n",
      "Buğday\n",
      "Birleşmiş Milletler'in işleyişini kim yürütür?\n",
      "kim\n",
      "Artemis Tapınağı kim için yapılmıştır?\n",
      "Artemis Tapınağı\n",
      "Kimler aile hukukunu geliştirmişlerdir?\n",
      "Kimler\n",
      "Berlin Bilimler Akademisi'nde öğretim üyeliği yapan ve fiziki coğrafyanın kurucusu olarak kabul edilen Alman coğrafyacı kimdir?\n",
      "Berlin Bilimler Akademisi'nde öğretim üyeliği yapan ve fiziki coğrafyanın kurucusu olarak kabul edilen Alman coğrafyacı kimdir\n",
      "Londra Köprüsü’nü kimler inşa etmiştir?\n",
      "Londra Köprüsü’nü\n",
      "Azteklerin varlığına kimler son vermiştir?\n",
      "kimler\n",
      "Stanford Üniversitesi kimin tarafından kurulmuştur?\n",
      "Stanford\n",
      "Ümit Burnu'nu kim keşfetmiştir?\n",
      "Ümit Burnu'nu kim keşfetmiştir\n",
      "Kıtaların Kayması Kuramı kim tarafından ortaya atılmıştır?\n",
      "Kayması Kuramı\n",
      "Orman tahribatı büyük ölçüde kim tarafından gerçekleştirilmektedir?\n",
      "Orman tahribatı\n",
      "Yunan uygarlığının kimler adına düzenledikleri yarışmalar, olimpiyatların başlangıcını oluşturmuştur?\n",
      "düzenledikleri yarışmalar\n",
      "Türk Seyyahin Cemiyeti kimin teşvikiyle kurulmuştur?\n",
      "Türk\n",
      "Doğal ya da beşerî bölge sınırları zaman içerisinde değişebilir mi?\n",
      "bölge sınırları\n",
      "Anadolu’da kimler demir, bakır, gümüş gibi madenleri işleyerek demir çapa, saban, tekerlek çemberi, bıçak, balta ve orak gibi aletler yapmıştır?\n",
      "Anadolu’da kimler demir bakır gümüş gibi maden leri işleyerek demir çapa saban tekerlek çemberi bıçak balta ve orak gibi aletler yapmıştır\n",
      "Anadolu’da demir, bakır, gümüş gibi madenleri işleyerek demir çapa, saban, tekerlek çemberi, bıçak, balta ve orak gibi aletler yapan kimdir?\n",
      "Anadolu’da demir bakır gümüş gibi maden leri işleyerek demir çapa saban tekerlek çemberi bıçak balta ve orak gibi aletler yapan kimdir\n",
      "Günümüzde biyoçeşitliliğe en büyük zararı kim verir?\n",
      "Günümüzde biyoçeşitliliğe en büyük zararı kim verir\n",
      "Buğday Doğu Anadolu’nun yüksek kesimleri yetiştirilir mi?\n",
      "Buğday\n",
      "Kitab-ı Bahriyenin yazarı kimdir?\n",
      "Kitab ı Bahriyenin yazarı kimdir\n"
     ]
    }
   ],
   "source": [
    "ques_word_set = set()\n",
    "for q_idx in q_words[\"generic\"]:\n",
    "    q, a, p_id = question_dict[q_idx]\n",
    "    raw = q.text.text\n",
    "    print(raw)\n",
    "    start = raw.find(\"hangi\")\n",
    "    #pat = re.compile(r\"(Hangisi|[H|h]angi\\w*\\s+\\w+|\\w*\\shangi\\w+)\")\n",
    "    #ques_word_set.add(pat.search(raw).group(1).casefold())\n",
    "    print(find_q_focus(q.text))\n",
    "    #q.text.sentences[0].print_dependencies()\n",
    "    #print(a.text)\n",
    "    # related_passage = passages[p_id]\n",
    "    # for sentence in related_passage.sentences:\n",
    "     #   sentence.print_dependencies()\n",
    "    "
   ]
  },
  {
   "cell_type": "code",
   "execution_count": 276,
   "metadata": {
    "ExecuteTime": {
     "end_time": "2019-05-24T21:45:30.216094Z",
     "start_time": "2019-05-24T21:45:30.210382Z"
    }
   },
   "outputs": [
    {
     "data": {
      "text/plain": [
       "{' hangisidir',\n",
       " 'adası hangisidir',\n",
       " 'afet hangisidir',\n",
       " 'alan hangisidir',\n",
       " 'baklagil hangisidir',\n",
       " 'biri hangisidir',\n",
       " 'bitki hangisidir',\n",
       " 'boğaz hangisidir',\n",
       " 'bölge hangisidir',\n",
       " 'dalı hangisidir',\n",
       " 'dağları hangisidir',\n",
       " 'dönem hangisidir',\n",
       " 'ekonomisi hangisidir',\n",
       " 'faktör hangisidir',\n",
       " 'gaz hangisidir',\n",
       " 'grubu hangisidir',\n",
       " 'göl hangisidir',\n",
       " 'hat hangisidir',\n",
       " 'havalimanı hangisidir',\n",
       " 'il hangisidir',\n",
       " 'ili hangisidir',\n",
       " 'ilimiz hangisidir',\n",
       " 'iş hangisidir',\n",
       " 'kanal hangisidir',\n",
       " 'kanun hangisidir',\n",
       " 'katman hangisidir',\n",
       " 'kaynak hangisidir',\n",
       " 'kaynağı hangisidir',\n",
       " 'kent hangisidir',\n",
       " 'konferans hangisidir',\n",
       " 'kuşak hangisidir',\n",
       " 'kuşağı hangisidir',\n",
       " 'kıta hangisidir',\n",
       " 'ma hangisidir',\n",
       " 'maden hangisidir',\n",
       " 'makinesi hangisidir',\n",
       " 'mağara hangisidir',\n",
       " 'nehri hangisidir',\n",
       " 'nemlisi hangisidir',\n",
       " 'noktası hangisidir',\n",
       " 'okyanusu hangisidir',\n",
       " 'orman hangisidir',\n",
       " 'ormanlar hangisidir',\n",
       " 'piramidi hangisidir',\n",
       " 'sektör hangisidir',\n",
       " 'sistemi hangisidir',\n",
       " 'sınır hangisidir',\n",
       " 'tabaka hangisidir',\n",
       " 'tipi hangisidir',\n",
       " 'toplulukları hangisidir',\n",
       " 'topluluğu hangisidir',\n",
       " 'türü hangisidir',\n",
       " 'ucuzu hangisidir',\n",
       " 'uygarlık hangisidir',\n",
       " 'yapı hangisidir',\n",
       " 'yerleşme hangisidir',\n",
       " 'yolu hangisidir',\n",
       " 'yöntemi hangisidir',\n",
       " 'yıl hangisidir',\n",
       " 'zirvesi hangisidir',\n",
       " 'çalılar hangisidir',\n",
       " 'çeşidi hangisidir',\n",
       " 'çoğunlukla hangisidir',\n",
       " 'çöl hangisidir',\n",
       " 'önemlisi hangisidir',\n",
       " 'örtüsü hangisidir',\n",
       " 'ülke hangisidir',\n",
       " 'ülkesi hangisidir',\n",
       " 'ürünü hangisidir',\n",
       " 'şehir hangisidir',\n",
       " 'şehri hangisidir',\n",
       " 'şehrimiz hangisidir',\n",
       " 'şekil hangisidir'}"
      ]
     },
     "execution_count": 276,
     "metadata": {},
     "output_type": "execute_result"
    }
   ],
   "source": [
    "ques_word_set"
   ]
  },
  {
   "cell_type": "code",
   "execution_count": 370,
   "metadata": {
    "ExecuteTime": {
     "end_time": "2019-05-24T22:21:51.886223Z",
     "start_time": "2019-05-24T22:21:51.870234Z"
    }
   },
   "outputs": [],
   "source": [
    "# Question Types\n",
    "#  Entity\n",
    "#  Location\n",
    "#  Human\n",
    "#  Numeric\n",
    "#  Temporal\n",
    "#  Description\n",
    "#  YesNo\n",
    "\n",
    "Location = [\n",
    "    \"hangi bölge\",\n",
    "    \"hangi il\",\n",
    "    \"hangi şehir\",\n",
    "    \"hangi şehri\",\n",
    "    \"hangi şehre\",\n",
    "    \"hangi ülke\",\n",
    "    \"hangi kıta\",\n",
    "    \"hangi yön\",\n",
    "    \"hangi kıta\",\n",
    "    \"hangi kent\",\n",
    "    \"ülke hangisidir\",\n",
    "    \"ülkeler hangileridir\",\n",
    "    \"ülkesi hangisidir\",\n",
    "    \"şehir hangisidir\",\n",
    "    \"şehri hangisidir\",\n",
    "    \"şehrimiz hangisidir\",\n",
    "    \"ili hangisidir\",\n",
    "    \"bölge hangisidir\",\n",
    "    \"adası hangisidir\",\n",
    "    \"kent hangisidir\",\n",
    "    \"neresi\",\n",
    "    \"nerelerde\",\n",
    "    \"nerede\",\n",
    "    \"nereden\",\n",
    "    \"nereye\",\n",
    "]\n",
    "\n",
    "Temporal = [\n",
    "    \"hangi tarihte\",\n",
    "    \"hangi çağ\",\n",
    "    \"ne zaman\",\n",
    "    \"kaçıncı yüzyıl\",\n",
    "    \"kaç yılında\",\n",
    "    \"dönem hangisidir\",\n",
    "    \"hangi dönem\",\n",
    "    \"hangi yıl\",\n",
    "    \"hangi zaman\",\n",
    "    \"hangi jeolojik zaman\",\n",
    "    \"hangi sene\",\n",
    "    \"dönem hangisidir\",\n",
    "]\n",
    "\n",
    "Description = [\n",
    "    \"ne denmektedir\",\n",
    "    \"ne denir\",\n",
    "    \"ne isim verilir\",\n",
    "    \"nedir\",\n",
    "    \"ne ad verilir\",\n",
    "    \"sebebi nedir\",\n",
    "    \"hangi ad\",\n",
    "    \"hangi faaliyetler\",\n",
    "    \"hangi özelli\",\n",
    "    \"hangi yönüyle\",\n",
    "    \"nasıl\",\n",
    "    \" neden \",\n",
    "    \"denir\",\n",
    "]\n",
    "\n",
    "Entity = [\n",
    "    \"hangi element\",\n",
    "    \"hangi antlaşma\",\n",
    "    \"hangi anlaşma\",\n",
    "    \"hangi kuşak\",\n",
    "    \"hangi kuşağ\",\n",
    "    \"hangi tip\",\n",
    "    \"hangi tür\",\n",
    "    \"hangi iklim\",\n",
    "    \"hangi maden\",\n",
    "    \"hangi kayaç tipi\",\n",
    "    \"hangi cevher\",\n",
    "    \"hangi şekil\",\n",
    "    \"hangi yönetim\",\n",
    "    \"hangi sektör\",\n",
    "    \"hangi renk\",\n",
    "    \"hangi levha\",\n",
    "    \"hangi kanun\",\n",
    "    \"hangi fay\",\n",
    "    \"hangi dağ\",\n",
    "    \"hangi biyom\",\n",
    "    \"rüzgar tipi\",\n",
    "    \"iklim çeşidi\",\n",
    "    \"iklim elemanı\",\n",
    "    \"havalimanı hangisidir\",\n",
    "    \"türü hangisidir\",\n",
    "    \"çeşidi hangisidir\",\n",
    "    \"şekil hangisidir\",\n",
    "    \"ürünü hangisidir\",\n",
    "    \"element nedir\",\n",
    "]\n",
    "\n",
    "Numeric = [\n",
    "    \"ne kadar\",\n",
    "    \"kaç\",\n",
    "]\n",
    "\n",
    "Human = [\n",
    "    \"kim\",\n",
    "    \"hangi kurum\",\n",
    "    \"hangi kral\",\n",
    "    \"hangi kuruluş\",\n",
    "    \"hangi padişah\",\n",
    "    \"kim\",\n",
    "    \"kimin\",\n",
    "    \"kimler\",\n",
    "]\n",
    "\n",
    "YesNo = [\n",
    "    \" mı\",\n",
    "    \" mi\",\n",
    "]\n",
    "\n",
    "proper_classes = {\n",
    "    \"Location\" : Location,\n",
    "    \"Temporal\": Temporal,\n",
    "    \"Human\": Human,\n",
    "    \"Numeric\": Numeric,\n",
    "    \"Description\": Description,\n",
    "    \"Entity\": Entity,\n",
    "}\n",
    "\n",
    "def find_q_type(question):\n",
    "    q = question.casefold()\n",
    "    for class_name, _class in proper_classes.items():\n",
    "        for key_word in _class:\n",
    "            if key_word in q:\n",
    "                return class_name\n",
    "    \n",
    "    \n",
    "    if \"hangi\" in q:\n",
    "        return \"Entity\"\n",
    "    elif \"ne\" in q:\n",
    "        return \"Description\"\n",
    "    elif \" mi\" in q or \" mı\" in q:\n",
    "        return \"YesNo\"\n",
    "\n",
    "    return \"Other\""
   ]
  },
  {
   "cell_type": "code",
   "execution_count": 371,
   "metadata": {
    "ExecuteTime": {
     "end_time": "2019-05-24T22:21:52.468785Z",
     "start_time": "2019-05-24T22:21:52.443805Z"
    }
   },
   "outputs": [],
   "source": [
    "q_class = {}\n",
    "for q, a, p_id in question_dict.values():\n",
    "    q_class.setdefault(find_q_type(q.text.text), []).append((q, a, p_id))\n"
   ]
  },
  {
   "cell_type": "code",
   "execution_count": 372,
   "metadata": {
    "ExecuteTime": {
     "end_time": "2019-05-24T22:21:52.861482Z",
     "start_time": "2019-05-24T22:21:52.856176Z"
    }
   },
   "outputs": [
    {
     "name": "stdout",
     "output_type": "stream",
     "text": [
      "Temporal : 91\n",
      "Human : 61\n",
      "Entity : 364\n",
      "Location : 220\n",
      "Description : 846\n",
      "Numeric : 206\n",
      "YesNo : 7\n"
     ]
    }
   ],
   "source": [
    "for class_name, _class in q_class.items():\n",
    "    print(\"{} : {}\".format(class_name, len(_class)))"
   ]
  },
  {
   "cell_type": "code",
   "execution_count": 368,
   "metadata": {
    "ExecuteTime": {
     "end_time": "2019-05-24T22:15:52.919461Z",
     "start_time": "2019-05-24T22:15:52.791674Z"
    }
   },
   "outputs": [
    {
     "name": "stdout",
     "output_type": "stream",
     "text": [
      "Dünya genelinde bir yıl içinde meydana gelen doğum sayısının toplam nüfusa oranına ne denir?\n",
      "Dünya genelinde bir yıl içinde meydana gelen doğum sayısının toplam nüfusa oranına ne ad verilir?\n",
      "Kuzey yarım kürede kuzeyden esen rüzgarlar etkili oldukları bölgelerde hava sıcaklığına nasıl etki eder?\n",
      "Güneş sistemindeki 5. büyük gezegenin adı nedir?\n",
      "Büyüklük bakımında Güneş sisteminde 5. sırada olan gezegenin adı nedir?\n",
      "Türkiye’de sanayi faaliyetlerinin dağılışını etkileyen başlıca faktörler nelerdir?\n",
      "Termik santrallerde enerji üretilmesinde, binaların ısıtılmasında ve motorlu taşıtların çalışmasında kullanılan fosil yakıtlar hangi çevre sorununa neden olur?\n",
      "Güneyden kuzeye gidildikçe sıcaklık nasıl değişir?\n",
      "Ekonomik ve kültürel yönden yerel, bölgesel, ulusal ve küresel çapta diğer bölgelerle etkileşim gösteren bölgelere ne denmektedir?\n",
      "Dünyada altın arama ve üretme işlemi büyük ölçüde neyle yapılmaktadır?\n",
      "Yüzey sularının etkisiyle zayıflayan kaya yüzeylerinde, rüzgarların etkisi sonucu oluşan deliklere ne ad verilir ?\n",
      "Olumsuz hava koşullarının tarımsal üretimin yanı sıra ulaşımı da olumsuz etkilemesi, büyük şehirlerde ne olarak yansımaktadır?\n",
      "İnsanların tarımsal faaliyetlerde bulunması ve yerleşik hayata geçmesi ile birlikte nüfus nasıl değişti?\n",
      "Batı Avrupa'nın en yüksek zirvesinin adı nedir?\n",
      "Paralel ve meridyenler kullanılarak verilen konuma ne denir?\n",
      "Besin üretme özelliğine sahip olmayan canlılara ne ad verilir?\n",
      "Besin üretemeyen canlılara ne denir?\n",
      "Karbondioksit, metan, diazotoksit, kloroflorokarbon gibi gazların yeryüzünden yansıyan ısının atmosfer dışına çıkmasını engellemesine ne ad verilir?\n",
      "Atlas Okyanusu'nu Büyük Okyanus'a bağlayan kanalın adı nedir?\n",
      "Ekosistemin canlı ögeleri nelerdir?\n",
      "Sert karasal iklimin doğal bitki örtüsü nedir?\n",
      "Yer şekilleri nasıl oluşur?\n",
      "Kayaçları inceleyen bilim dalına ne denir?\n",
      "Laterit topraklar organik madde bakımından neden fakirdir?\n",
      "MÖ 6200 ve 5200 yıl öncesine tarihlenen Neolitik Çağı temsil eden, Konya'da bulunan tarihi yerleşme nedir?\n",
      "Farklı ham maddelerin ve yarı işlenmiş ürünlerin fabrikalarda işlenerek kullanılabilir (imal edilmiş) hâle getirilmesi faaliyetine ne ad verilir?\n",
      "İnsanlar Neolitik Dönem'de yaşamak için ne yapıyorlardı?\n",
      "Karst topoğrafyasının, ülkemizden en sık görüldüğü yerler nerelerdir ?\n",
      "Türkiye'de karst topoğrafyasına ait şekillerin en yaygın olarak görüldüğü bölgeler nerelerdir ?\n",
      "1906'da Kaliforniya'da meydana gelen deprem veya Kırgızistan'da yaşanan toprak kaymasından sonra yaşanan göçlerin sebebi nedir?\n",
      "İklim koşulları Türkiye'nin hangi özellikleri üzerinde etkilidir?\n",
      "Yer kabuğu hareketleri sırasında meydana gelen kırıklara ne denir?\n",
      "hay­vanlarla beslenen tüketicilere ne denir?\n",
      "Vertisol ne demektir?\n",
      "Ülkemizin yer aldığı kuşak nedir?\n",
      "30 derece enlemleri çevresindeki dinamik yüksek basınç alanlarından Ekvator çevresindeki termik alçak basınç alanlarına doğru esen rüzgarlara ne ad verilir?\n",
      "Tokyo'nun kelime anlamı nedir?\n",
      "Sektörlerin ülke ekonomilerindeki payı, ne hakkında önemli fikirler vermektedir?\n",
      "Mısır’daki başlıca ekonomik etkinlik nedir?\n",
      "Kastamonu Bolu Düzce Samsun Balıkesir ve İzmir’de kereste fabrikalarının bulunmasının nedeni nedir?\n",
      "Ekvator'dan kutuplara doğru sıcaklığın azalmasına bağlı olarak orman üst sınırı ne olmaktadır?\n",
      "Eti ve yumurtası için beslenen tavuk, hindi, kaz, ördek gibi kanatlı hayvanlar nasıl adlandırılır?\n",
      "Bölge olarak tanımlanan alan belli kriterler bakımından kendi içinde nasıl olmalıdır?\n",
      "Gelir düzeyinin artması üretim faaliyetlerini nasıl etkiler?\n",
      "Ülke sınırları içinde olan göçlere ne ad verilir?\n",
      "Sanayileşmede temel koşul nedir?\n",
      "Geniş araziler üzerine kurulmuş, arazi sahipleri ve çalışanlar için evlerin bulunduğu, etrafı çevrili yerleşmelere ne denir?\n",
      "İnsanın yeryüzünde gerçekleştirdiği bütün faaliyetlerin oluşturduğu ortama verilen isim nedir?\n",
      "İnsan eliyle yapılmış bina, yol, köprü gibi unsurlar ile tarım, sanayi gibi insan faaliyetlerinin oluşturduğu ortama ne denir?\n",
      "Kıvrılan tabakaların çanaklaşan kısımlarına ne isim verilir?\n",
      "Atmosferdeki nemin kaynağı nelerdir?\n",
      "Solunum, canlıların çürümesi, orman yangını, karbonatlı kayaçların ayrışması, volkanik faaliyetler ve fo­sil yakıtların yakılması sonucu atmosferde ne gerçekleşir?\n",
      "Bir ülkenin sahip olduğu fiziki ve beşerî unsurlar ile dünya üzerindeki konumunun dış siyasetine etkisine ne ad verilir?\n",
      "Belirli bir süreçte düşük olan doğum oranlarının sonradan artış gösterdiği ülkelere ait nüfus piramidi hangi adla anılır?\n",
      "İtalyanca olan citta kelimesinin Türkçe karşılığı nedir?\n",
      "yer altındaki mağara, galeri, tünel ve boşlukların çökmesiyle oluşan sarsıntılar nelerdir?\n",
      "Doğum ve ölüm oranlarının düşük olduğu gelişmiş ülkelere ait nüfus piramidinin adı nedir?\n",
      "Orman üst sınırının belirlenmesindeki temel faktör nedir?\n",
      "Yoğunluk, sıcaklık ve kalınlığı en az olan atmosfer katmanı nedir?\n",
      "Erozyon, tarım ilaçları, endüstriyel kirlenme, tarım alanlarının amaç dışı kullanımı ve katı atıklar hangi çevre sorununa neden olur?\n",
      "Yerleşmelerin kurulup gelişmesine olumlu katkı sağlayan hangi faaliyetlerin geliştiği yerleşmelerde mevsime göre nüfus sayısı büyük oranda değişir?\n",
      "Derinlik volkanizmalarının oluşturduğu şekiller nedir?\n",
      "Bozulan izostatik denge sonucu alçalarak oluşan okyanus ve deniz çukur­luklarına ne denir?\n",
      "Sulama, gübreleme, ilaçlama ve kaliteli tohum gibi uygulamalardan bilimsel yöntemlerle yararlanılan tarım metoduna ne denir?\n",
      "Patlama ya da çökme sonuucu kraterin genişlemesi sonucu oluşan çanağa ne denir?\n",
      "Genellikle eğimli yamaçlarda tabakalar hâlinde birikmiş olan kar kütlesinin çeşitli etmenlerle aşağıya doğru hızla kayması sonucu ne gerçekleşir?\n",
      "Türkiye'de orman üst sınırının iç kesimlerde daha yüksek olmasının sebebi nedir?\n",
      "Ekonomik faaliyetin ne olduğu yerlerde nüfusun büyük bir kısmı kırsal kesimde yaşar?\n",
      "İpek Yolu’nun tekrar canlandırılması geliştirilen ve Çin’i Anadolu üzerinden Avrupa’ya bağlayacak projenin adı nedir?\n",
      "Sulardan temin edilen her türlü ekonomik kaynağa ne denir?\n",
      "Hizmetler sektöründe çalışanların yoğunlaştığı ülkeler nasıl sınıflandırılır?\n",
      "Kaliforniya'nın 1891'de bir üniversite kurmuş olan valisinin adı nedir?\n",
      "Nem, ne ile ölçülür?\n",
      "Türkiye'nin coğrafi konumu, Türkiye'nin ne potansiyelini yükseltmiştir?\n",
      "Okyanuslarda petrol kaynaklı kirliliğin en önemli nedenlerinden biri nedir?\n",
      "Genellikle dağlık bölgeler, düzlük bölgeler, ovalık bölgeler, plato bölgeleri, yükselti basamaklarına göre bölgeler şeklinde ayrılan bölgelere ne ad verilir?\n",
      "Almanya'da ortalama yaşam süresi nasıldır?\n",
      "Almanya'nın ortalama yaşam süresi nasıldır?\n",
      "Ani ve şiddetli yağışlar ile kar erimeleri sonucu oluşan hızlı akışa sahip sulara ne denir?\n",
      "Avrupa ve Asya arasındaki ilk sabit bağlantı olarak Türkiye ulaşım ağının önemli bir halkasını oluşturan köprünün adı nedir?\n",
      "Beşerî faaliyetler sonucu sera etkisi yapan gazların atmosferdeki oranlarının hızla artmasıyla gerçekleşen küresel çevre sorunu nedir?\n",
      "Bir mal veya hizmetin kâr elde etmek amacıyla alım satımına yönelik yapılan etkinliklere ne denir?\n",
      "Kar amacıyla yapılan mal veya hizmet alım satımına dayalı etkinliklere ne ad verilir?\n",
      "Depremin doğa, insan, yapılar üzerindeki etkisini ne ölçer?\n",
      "Jared Diamond'un mesleği nedir?\n",
      "Orta kuşağın nemli iklim bölgelerinde yaprak döken ormanların tahrip edilmesi sonucu ortaya çıkan ve genellikle kışın yapraklarını döken çalılara ne denir?\n",
      "Doğu Anadolu Projesi amaçlarına ulaşırsa bölgedeki gıda, tarım ve hayvancılık sektöründe verimlilik nasıl değişir?\n",
      "İnsanların doğaya müdahalesi ne ile artmıştır?\n",
      "V harfine benzeyen, aşındırma güçleri fazla olan akarsular tarafından oluşturulan vadi tipi nedir ?\n",
      "Kayaçların fiziksel ayrışmasının temel nedeni nedir?\n",
      "Canlı varlıklardan oluşan doğal ortam tabakasına verilen isim nedir?\n",
      "Canlı varlıkların oluşturduğu tabakanın ismi nedir?\n",
      "Aerokist adı verilen cihazların yaygın adı denir?\n",
      "Karadeniz'e döküldüğü için açık havza özelliği gösteren nehrimizin adı nedir?\n",
      "Orojenez nedir?\n",
      "Raman Dağı’nda petrolün bulunmasıyla önce bucak sonra belediye, sonra ilçe ve il statüsü kazanan şehrimizin adı nedir?\n",
      "1957’de ilçe ve 1990’da il yapılan şehrimizin adı nedir?\n",
      "Sanayinin sunduğu farklı iş imkânları sayesinde nerelere göçler başlamıştır?\n",
      "Sanayinin sunduğu farklı iş imkânları sayesinde nereler daha cazip hale gelmiştir?\n",
      "Coğrafyanın doğal sistemleri inceleyen dalına ne denir?\n",
      "Doğal sistemleri inceleyen coğrafya dalı nedir?\n",
      "19. yüzyılın en önemli enerji kaynağı olan kömür, 20. yüzyılda yerini neye bırakmıştır?\n",
      "19. yüzyılın en önemli enerji kaynağı olan kömürün, 20. yüzyılda yerini bıraktığı şey nedir?\n",
      "Karadeniz kıyı kuşağında neyin sonucu olarak mısır yetişir?\n",
      "Hangi faaliyetlerin geliştiği yerleşmelerde mevsime göre nüfus sayısı büyük oranda değişir?\n",
      "Yer kabuğunu oluşturan parçalara ne ad verilir?\n",
      "Konuma dayalı her türlü bilginin toplanması, depolanması, işlenmesi, analiz edilmesi ve sunulmasına nedir?\n",
      "Ormanların bulunabileceği en yüksek sınıra ne denir?\n",
      "Tarım genellikle ne tarz alanlarda yapılan bir etkinliktir?\n",
      "Yıllık kapasitesi 3,5 milyon ton, boru hattının uzunluğu 511 km olan boru hattı nereler arasındadır?\n",
      "Küresel iklim değişikliğinin temel nedeni nedir?\n",
      "Küresel ısınmaya ne sebep olmuştur?\n",
      "Akdeniz'in güneyinden esen rüzgarlar sıcaklığı nasıl etkiler?\n",
      "Türkiye'de uluslararası ticaretin %65'inin gerçekleştirildiği ulaşım yolu nedir?\n",
      "Uluslararası Golf Tur Operatörleri Birliği nereyi 2008 yılında Avrupa’da yılın en iyi golf bölgesi ödülüne layık görülmüştür?\n",
      "Yeryüzünün bir bölümün kuşbakışı görünümünün bir düzleme aktarılmasıyla ne elde edilir?\n",
      "Günümüzde bir üniversite binası olarak kullanılan elektrik  üretim  santralimiz nedir?\n",
      "San Jose Vadisi'ne başka ne ad verilir?\n",
      "Deprem sırasında açığa çıkan enerjinin bir ölçüsü nedir?\n",
      "A. Wegener'in kuramı, 1950 yılında geliştirilerek ne isim almıştır?\n",
      "Türkiye’nin ilk bölgesel kalkınma projesi nedir?\n",
      "Ülkemizdeki bölgesel kalkınma projelerinin ilki nedir?\n",
      "Çocuk aldırma (kürtaj) eyleminin yasaklanması, ölüm oranlarını azaltmak için halk sağlığını koruyucu yasal düzenlemelerin yapılması, evlilik yaşının düşürülmesi ve doğumların teşvik edilmesi amacıyla çok çocuklu ailelerin ödüllendirilmesi  ne amaçla gerçekleştirilen uygulamalardır?\n",
      "Yükselti artışı durumunda basınç nasıl değişir?\n",
      "İnsanların doğal çevreye olan ilk müdahalelerinden birisi Paleolitik Devir’de ne yoluyla olmuştur?\n",
      "Can kaybının yanı sıra tarım alanlarının zarar görmesine, toprak kaybının yaşanmasına, bitki örtüsünün tahrip olmasına ve doğal hayatın ortadan kalkmasına neden olan nedir?\n",
      "Doğum yapan annelere çocuk sayısına göre maddi destek verilmesi, çalışan anneler için çalışma sürelerinin kısaltılması, doğum izinlerinin artırılması ve bakıcı yardımı yapılması ne amaçla yapılan yasal düzenlemelerdir?\n",
      "İki su kütlesini birleştiren doğal su yollarına boğaz, iki su kütlesini birleştirmek için insanlar tarafından açılan su yollarına ne denir?\n",
      "Bölgesi Aksaray, Karaman, Konya, Niğde, Nevşehir, Kırıkkale, Kırşehir ve Yozgat illerinden oluşan bölgesel kalkınma projesi nedir?\n",
      "Karalarda yaşayan canlılar, solunum yoluyla atmosferden aldığı oksijeni ne olarak atmosfere verir?\n",
      "Hidrojenin yakıt olarak kullanıldığı enerji sistemlerinde atmosfere bırakılan atık madde nedir?\n",
      "Meralarda otlatılan hayvanların ahır veya ağıllarda kaba yemle beslenmesine ne denir?\n",
      "Türkiyede en çok yetiştirilen tahıl nedir?\n",
      "suyun magmanın yapısında bulunan eriyik hâldeki sıcak kayaçlarla etkileşmesi sonucu ne oluşur?\n",
      "Kır yerleşmelerinin yükseklik sınırı nedir?\n",
      "Açık deniz balıkçılığının yapılmaması ve beslenmede tüketilen su ürünleri oranının düşük olmasından dolayı balıkçılığın gelişim durumu nasıldır?\n",
      "Kullanılan en eski ulaşım ağı nedir?\n",
      "Ham maddenin kullanılabilir hâle gelebilmesi için neye ihtiyaç vardır?\n",
      "Kıble rüzgarı sıcaklığı nasıl etkiler?\n",
      "Volkanların levha sınırlarına göre konumu nedir?\n",
      "Levha sınırı sayısı ile volkan sayısı arasındaki ilişki nasıldır?\n",
      "Dünyada tarımsal ham madde üretiminin yoğun olduğu yerlerin ortak özellikleri nelerdir?\n",
      "Dünyada tarımsal ham madde üretimi ne tür yerlerde yoğundur?\n",
      "Tokyo'nun bulunduğu yerleşim alanına, antik çağlardan 16. yüzyılın sonlarına kadar yaklaşık 100 evli küçük bir balıkçı kasabasından oluşurken ne denirdi?\n",
      "Türkiye'de, 1965-1980 Dönemi'nde nüfus ne yönde değiştirilmeye çalışılmıştır?\n",
      "Tropikal rüzgarlara Avustralya'da ne denir?\n",
      "Yıldız hangi mevsimde yağışlara neden olur?\n",
      "Türkiye’de ilk boru hattı, nereler arasında döşenmiştir?\n",
      "Türkiye'deki ilk boru hattı nereler arasına döşenmiştir?\n",
      "Tarım ve hayvancılıkta bozulabilir ürünler için neler oldukça önemli unsurlardır?\n",
      "Terra rossaların en önemli özelliği nedir?\n",
      "İnsanlar, tarım yapmayı öğrenince aynı yerde yaşama süreleri nasıl değişmiştir?\n",
      "Mevsim normalindeki sıcaklıkların ortalama maksimum sıcaklığın 3 ila 5 derece üzerinde 5 gün boyunca devam etmesine ne ad verilir?\n",
      "Göçebe yaşam tarzında avcılık ve toplayıcılıkla uğraşan insanların geçmişten bugüne üretime yönelik en önemli ekonomik faaliyeti nedir?\n",
      "Göçebe yaşam tarzında avcılık ve toplayıcılıkla uğraşan insanların üretim açısından en önemli faaliyeti nedir?\n",
      "Kara kütlesinin ağırlaşıp alçalmasıyla denizin karaya doğru ilerlemesine ne denir?\n",
      "Yunan uygarlığı, şehir devletlerine hangi adı vermiştir?\n",
      "Sera gazının düşürülmesini teklif eden ilk bağlayıcı uluslararası protokolün adı nedir?\n",
      "İklim değişikliğinin olumsuz etkilerinin önlenmesini teklif eden ilk bağlayıcı uluslararası protokolün adı nedir?\n",
      "Orta Çağ’da Müslümanların Mekke ve Medine’ye, Hristiyanların Roma’ya yaptıkları seyahatler ne çeşit bir turizmi geliştirmiştir?\n",
      "Kutup ve tundra iklim bölgelerinde sıcaklık değerlerinin nasıl olması yerleşmeyi etkiler?\n",
      "Neden podzol topraklar besin maddeleri açısından fakirdir?\n",
      "Hidrojen, ne olarak kullanılabilen bir enerji kaynağıdır?\n",
      "Orman alt sınırının belirlenmesindeki temel faktör nedir?\n",
      "Devletin ülkeyi kolayca yönetmesi, hizmetlerin yurt geneline ulaşımının sağlanmasının dikkate alınmasıyla ayrılan bölümlere göre yönetilen bölgelere ne denir?\n",
      "Tarım, hayvancılık, ormancılık, balıkçılık ve madencilik gibi ihtiyaçların doğrudan veya dolaylı olarak doğadan karşılanmasına ne denir?\n",
      "Eriyen kar ve buzların yanı sıra yağışlarla veya kaynak suları ile beslenen, bir yatak boyunca eğime bağlı olarak sürekli veya belli bir dönem akan sulara ne denir?\n",
      "Dağların genellikle bulunduğu doğrultu nedir?\n",
      "Kentleşme ve konut ihtiyacı konusunda insanlara adil, güvenli ve yaşanabilir alanlar belirlenmesi hedeflenen konferansın adı nedir?\n",
      "Bir yerin ya da varlığın dünya üstündeki adresi nedir?\n",
      "Bir bölgede doğal koşullara bağlı olarak yetişen çeşitli bitki topluluklarının oluşturduğu örtüye ne denir?\n",
      "Akarsuyun kolları ile birlikte sularını topladığı alana ne denir?\n",
      "Sahip oldukları doğal ve beşerî özellikleri ile dünyanın diğer alanlarından ayrılan bölgelere ne isim verilir?\n",
      "Ortak doğal ve beşeri özelliklere sahip olduğu için dünyanın diğer alanlarından ayrılan bölgelere ne ad verilir?\n",
      "Bir ülkenin petrol ve doğalgaz gibi kaynaklar açısından zengin olması tüketimini nasıl etkiler?\n",
      "Doğal kaynakların fazlalığı tüketimi nasıl etkiler?\n",
      "Son jeolojik zamanda neyin sonucu canlıların çoğu Ekvator'a göç etmiştir?\n",
      "Bütünüyle doğal faktörlerin karşılıklı etkileşimiyle meydana gelen bölgelere ne ad verilir?\n",
      "Galerilerin tavanlarının zamanla aşınıp çökmesiyle oluşan çukurlara ne ad verilir ?\n",
      "Doğal nüfus artışına ek olarak göçlerin etkisiyle meydana gelen nüfus artışına ne ad verilir?\n",
      "Doğal nüfus artışına ek olarak göçlerin etkisiyle meydana gelen nüfus artışına ne denir?\n",
      "Ülkemizde yaz mevsiminin kurak, yağışların da genel itibarıyla düzensiz olması tarımda sulamanın önemini nasıl değiştirdi?\n",
      "Bir alanda bulunan canlılar ile bunları saran çevrenin karşılıklı ilişkileri ile meydana gelen ve süreklilik gösteren ekolojik sisteme ne denir?\n",
      "Kömür, biyokütle, doğal gaz ve suyun da dâhil olduğu birçok maddeden elde edilebilen, doğadaki en basit ve en fazla bulunan element nedir?\n",
      "İnsanların dinlenme, eğlenme, görme, tanıma vb. amaçlarla sürekli ikamet ettiği yerden başka bir yere geçici bir süre içinde yaptığı gezilere ne denir?\n",
      "Dinlenme, eğlenme, görme, tanıma vb. amaçlarla insanların başka yerlere geçici süreliğine yaptığı gezilere ne denir?\n",
      "Baklagiller havanın serbest azotunu bağlayarak neyi sağlar?\n",
      "Fırat ve Dicle nehirleri arasında kalan bölgeye ne denir?\n",
      "Akdeniz ikliminin özelliklerini değiştiren etmen nedir?\n",
      "Ekvatordan kutuplara doğru gidildikçe denizlerin tuzluluk oranı nasıl değişir?\n",
      "Mal ve hizmetlerin kullanılabilir duruma getirilmesi faaliyeti nedir?\n",
      "Mal ve hizmetlerin kullanılabilir duruma getirilmesi faaliyeti nedir?\n",
      "Canlıların yaşamlarını sürdürebilmesi için belirli bir enerjiye ihtiyaç vardır. Bu enerjinin ana kaynağı nedir?\n",
      "Canlıların temel enerji kaynağı nedir?\n",
      "NATO'nun en üst organı nedir?\n",
      "Zemine temas eden bulutlara ne denir?\n",
      "Dağlarda kalıcı kar sınırının  üzerindeki kısımları bir külah şeklinde kaplayan  buzullara ne ad verilir ?\n",
      "Türkiye'nin ilk milli parkının adı nedir?\n",
      "Yükselim yağışa halk arasında ne ad verilir?\n",
      "Bulutlardan yeryüzüne sarmal hareketlerle dönen rüzgarlara ne denir?\n",
      "Coğrafi bilgi sistemlerinin ortaya çıkması dördüncül ekonomik faaliyetleri nasıl etkiler?\n",
      "Uzaydaki dev kaya parçalarına ne ad verilir?\n",
      "1989 yılında hazırlanan Master Plan ile tarım sanayi ulaştırma eğitim sağlık kırsal ve kentsel altyapı yatırımlarını da içine alan bölgesel kalkınma projesi nedir?\n",
      "Ne 1989 yılında hazırlanan Master Plan ile tarım sanayi ulaştırma eğitim sağlık kırsal ve kentsel altyapı yatırımlarını da içine alan bölgesel kalkınma projesidir?\n",
      "Haşhaş'ın en çok üretildiği yerler nerelerdir?\n",
      "Genellikle hayvancılığın ön planda olduğu, kısmen de tarımın yapıldığı geçici yerleşmelere ne denir?\n",
      "Karasal iklimin yağış rejimi nasıldır?\n",
      "Ekmek başta olmak üzere bulgur, makarna, irmik, bisküvi gibi çok değişik ürünler nasıl elde edilmektedir?\n",
      "Büyük volkan taşlarına ne denir?\n",
      "hem et hem de otla beslenen tüketicilere ne denir?\n",
      "Türkiye'nin yakın bölgelerinin güvenliğini düşünerek komşularla iyi ilişkiler kurmak amacıyla 1934'te imzalanan antantın adı nedir?\n",
      "Doğmasında Dünya'nın yıllık hareketi ile kara ve denizlerin farklı ısınma özelliklerine sahip olmasının etkili olduğu rüzgar türü nedir?\n",
      "Şehirlerin hangi alanlarda güçlü, hangi alanlarda zayıf olduklarını analiz etmelerini ve sahip oldukları imkânlar çerçevesinde bir strateji geliştirmelerini teşvik eden felsefeye ne denmektedir?\n",
      "Güneşlenme süresinin fazla olması güneş enerjisi potansiyelini nasıl etkiler?\n",
      "Tarım makinelerinin tarım alanlarını işleyecek sayıya ulaşmış olmasına ne denir?\n",
      "İnstansif tarımda doğal koşullara bağlılık nasıldır?\n",
      "Akarsu havzalarını birbirinden ayıran sınıra ne ad verilir?\n",
      "İdari açıdan en küçük yönetim birimi nedir?\n",
      "Okyanus ve denizlerdeki tuzluluğun kaynağı nelerdir?\n",
      "Fotosentez yapabilen yeşil bitkiler ile bazı mikroorganizmalara ne ad verilir?\n",
      "İslam Konferansı Örgütünün adı 2011'de ne olarak değiştirilmiştir?\n",
      "Günümüzden 250 milyon yıl önce bitişik olan kıtanın adı nedir?\n",
      "Tarım ve hayvancılıkla uğraşan az sayıda ailenin oturduğu yerleşmelere ne denir?\n",
      "İç kuvvetlerin oluşumu sürecinde yer kabuğunda meydana gelen hareketlere ne ad verilmektedir?\n",
      "Levha hareketleri sonucu sıkışan katmanlarda biriken enerjinin kırılmalar sonucu açığa çıkmasına ne ad verilir?\n",
      "Doğadaki madenlerin çıkarılması işlenmesi vb. süreçlerde meydana gelen kazalara ne denir?\n",
      "Yer kabuğu parçalarına ne denir?\n",
      "Eski zamanlarda Türkler nasıl yaşamaktadır?\n",
      "Fiziksel etmenler nelerdir?\n",
      "Hayatımıza pek çok değişimi getireceği öngörülen teknolojik gelişmelerden birisi nedir?\n",
      "insan varlığında gözlemlediğimiz ve “akıllı davranış” olarak adlandırdığımız davranışları gösterebilen bilgisayarlara ne ad verilir?\n",
      "Taban yüksekliği 2.000 metrenin altında olan koyu renkli bulutlara ne denir?\n",
      "Sularını deniz veya okyanuslara çeşitli nedenlerden dolayı (iklim, yeryüzü şekilleri vb.) ulaştıramayan akarsular ne özelliği gösterir?\n",
      "Yarıçapı yaklaşık 6371 kilometre olan gezegenin adı nedir?\n",
      "İnsan veya eşyanın bir yerden başka bir yere taşınmasına ne denir?\n",
      "Dünyanın katmanları nelerdir?\n",
      "Baltık Denizi, Akdeniz, Karadeniz ve Kızıldeniz nelere örnek gösterilebilir?\n",
      "Güneş enerjisini elektrik enerjisine dönüştürebilmeyi sağlayan araç nedir?\n",
      "2001 ve sonrasında doğan kişilere hangi harf kuşağı denir?\n",
      "30 derece enlemlerinden dinamik yüksek basınç kuşaklarından 60 derece enlemlerindeki dinamik alçak basınç alanlarına doğru esen rüzgarlara ne ad verilir?\n",
      "Ülkemizde turizm gelirlerinin en yüksek olduğu alan nedir?\n",
      "Yer altından çıkarılan madenlerin fabrikalarda işlenerek demir bakır gibi saf hâle getirilerek işlenmesine ne denir?\n",
      "Türkiye'de nüfus hareketi ne yöndedir?\n",
      "Yükseklikleri 2.000-6.000 metre arasında olan açık renkli bulutlara ne denir?\n",
      "Çoruh Nehri Karadeniz'e döküldüğü için hangi özelliği gösterir?\n",
      "Buzul aşındırmasıyla meydana gelen çanakların (sirk) sularla dolması sonucu oluşan göllere ne ad verilir?\n",
      "Arnavutluk-Makedonya sınırında bulunan, hem tektonik hem de karstik kökenli bir gölüne örnek olan gölün adı nedir?\n",
      "Doğu Avrupa’dan Büyük Okyanus kıyılarına kadar yayılan Slav-Rus kültürü, ne etkisinden dolayı güneye doğru yayılmamıştır?\n",
      "Doğu Avrupa’dan Büyük Okyanus kıyılarına kadar yayılan Slav-Rus kültürü, neden güneye doğru yayılmamıştır.\n",
      "Magmanın yeryüzüne çıkmasına ne denir?\n",
      "Sıcaklık ve nemi taşıyarak bitki ve hayvanların dağılışını etkileyen nedir?\n",
      "Deprem bölgeleri ile volkanik arazilere yakın yerlerde daha fazla görülen temiz ve yenilenebilir enerji kaynağı nedir?\n",
      "Yol ya da akarsu kenarlarında konumlandırılan meskenler nasıl yerleşmeleri oluşturur?\n",
      "En fazla kullanım oranına sahip yenilenebilir enerji türü nedir?\n",
      "1 Ocak 1994’te ABD, Kanada ve Meksika tarafından yapılan antlaşma nedir?\n",
      "ABD, Kanada ve Meksika tarafından yapılan 1 Ocak 1994 tarihli antlaşma nedir?\n",
      "Haritalarda kullanılan işaret ve renklerin ne anlama geldiğini gösteren bölüme ne denir?\n",
      "Mağara tavanlarından damlayan suların içerisindeki malzemenin tavanda birikmesiyle oluşan şekil nedir ?\n",
      "Yağışın az, su kaynaklarının yetersiz, kurak mevsimlerin uzun, toprağın ince ve gevşek, bitki örtüsünün seyrek olduğu alanlarda sıkça görülen çevre sorunu nedir?\n",
      "Buğdayın öğütülmesi sonucu ortaya çıkan kepek, diğer yan ürünler ve düşük vasıflı buğdaylar ne olarak kullanılmaktadır?\n",
      "Güneş'e en yakın 3. gezegenin adı nedir?\n",
      "Güneş'e yakınlık bakımından 3. sırada olan gezegenin adı nedir?\n",
      "Alışılmışın dışında olan ve nadir görülen doğa olaylarına ne denir?\n",
      "Saatteki hızı 60 km'nin üzerinde olan rüzgârların şiddetli sağanak, yıldırım ve şimşekleri de beraberinde getirecek şekilde tehlikeli sonuçlara yol aça- bildiği atmosfer olayına ne denir?\n",
      "Ekonominin tarıma dayalı olduğu bir yerde yaşayanların sosyal hayatları ekonomik etkinliklerine bağlı mıdır?\n",
      "Tarım sektörünün GSMH içindeki oranı her yıl nasıl değişmiştir?\n",
      "Avrupa'dan Amerika'ya göçü hızlandıran etken nedir?\n",
      "Sanayi ve hizmetler sektörünün ekonomiye katkısı tarım sektörü ile karşılaştırıldığında nasıldır?\n",
      "Türkiye ile Yunanistan arasında yer alan çökmeler sonucu deniz haline gelen kara parçasının adı nedir?\n",
      "Baritin kullanım alanları nelerdir?\n",
      "Yer kabuğunu oluşturan bütün kayaçların kökeni nedir?\n",
      "Toprağın değişik sosyoekonomik faaliyetler için değerlendirilmesine ne denir?\n",
      "Suya doyan yüzeydeki toprağın anakayadan koparak yer değiştirmesi olayı nedir?\n",
      "B horizonu nasıl bir renk tonuna sahiptir?\n",
      "Dünyadaki volkanların yaklaşık %75'i Pasifik Levhası'nın çevresinde yer aldığından bu alana ne ad verilir?\n",
      "Yer kabuğunun derinliklerinde bulunan ve ekonomik değer taşıyan minerallere ne denir?\n",
      "Fiziksel temas olmadan havadan veya uzaydan cisimler hakkında bilgi alma tekniğine ne denir?\n",
      "Türkiye'de Eğirdir, Beyşehir, Çıldır, İznik ve Uluabat göllerinin sularının nasıl olmasından dolayı kerevit, inci kefali, sazan gibi balıklar avlanabilmektedir?\n",
      "Kayaçların aşınması sonucunda oluşan elektrik yüklü parçacıkların adı nedir?\n",
      "Kayaçların aşınmasıyla ortaya çıkan elektrik yüklü parçacıklara ne denir?\n",
      "Kuzey ve Güney Amerika kıyılarının keşfedilmesi ile Atlas Okyanusu’nun önemini nasıl değişmiştir?\n",
      "Muson iklim bölgesinde görülen ve kışın yaprak döken geniş yapraklı ağaç türlerinden oluşan bitki örtüsüne ne denir?\n",
      "Karasal iklimin bitki örtüsü nedir?\n",
      "Kara yollarından sonra gelişme gösteren ve daha çok yük taşımacılığında kullanılan ulaşım ağı nedir?\n",
      "Organik tarım yaygınlaştıkça tedavisi çok pahalı olan hastalıklara yakalanma oranları nasıl değişecek?\n",
      "Anadolu'da 19. yüzyılda önem kazanan ulaşım sistemi nedir?\n",
      "Somali'nin en yüksek noktasının adı nedir?\n",
      "volkanizma faaliyetleri sırasında meydana gelen sarsıntılar nelerdir?\n",
      "Modern tarım yöntemlerinin uygulanmadığı, geleneksel yöntemlerle yapılan tarım metoduna ne denir?\n",
      "Karalar üzerindeki çukur yerleri veya çanakları dolduran su kütlelerine ne ad verilir?\n",
      "15. yüzyılda keşfedilen Amerika ve Okyanusya kıtalarına ne ad verilmiştir?\n",
      "Mal ve hizmetlerin tüketilmesi, kullanılması faaliyetine ne denir?\n",
      "Ülkeler arasında yapılan ticarete ne denir?\n",
      "Dünya genelinde nüfusun dağılışının düzensizliğinin sebebi nedir?\n",
      "İnsanların yaşadıkları yeri herhangi bir sebepten dolayı terketmesine ne denir?\n",
      "1924 yılında çıkarılan 442 sayılı Köy Kanunu’na göre cami, okul, yaylak, baltalık ve orman gibi malları bulunan; toplu veya dağınık yerleşen insanların bağ, bahçe ve tarlaları ile birlikte oluşturdukları yerleşmelere ne denir?\n",
      "Petrol ve doğal gazın en hızlı ve ucuz bir şekilde taşındığı sistem nedir?\n",
      "Petrol ve doğal gazın hem en hızlı hem de ucuz bir biçimde taşındığı sistem nedir?\n",
      "Tarım arazilerinin niteliğine, yürütülen tarımsal faaliyet türlerine ve yetiştirilen tarım ürünlerine göre oluşturulan bölgelere ne ad verilir?\n",
      "Orman üst sınırından sonra yetişen çayırlara ne denir?\n",
      "Aras Nehri ise Hazar Gölü'ne döküldüğü için ne özelliği gösterir?\n",
      "Akarsuyun doğduğu yere ne denir?\n",
      "1981-2000 yılları arasında doğan kişilere hangi harf kuşağı denir?\n",
      "Tarım festivalleri ne diye de bilinir?\n",
      "Yeşilırmak Havzası Gelişim Projesi'nde veri analizi yapılmasını sağlayan sisteme ne ad verilir?\n",
      " Buzul oluşumu, volkanik olaylar sonucu çıkan, dış kuvvetlerin taşıdığı materyallerin belirli yerlerde birikmesi ve karanın ağırlaşarak çökmesine ne denir?\n",
      "İlçe merkezindeki kaymakama bağlı olan idari birim nedir?\n",
      "Ağrı Dağı nedir?\n",
      "Stratosfer katmanı içerisinde yoğun olarak bulunan, çok zehirli ve yakıcı bir etkiye sahip olan gaz nedir?\n",
      "Sümerlerin yaptığı çok katlı tapınakların adı nedir?\n",
      "Su altında bırakılmış tarlalarda ne yetişir?\n",
      "Kırılma sonucu tabakaların dikey yönde yer değiştirmesiyle oluşan alçak kısımlara ne denir?\n",
      "lavların ve volkanik küllerin birikmesi sonucu neler oluşur?\n",
      "Toprakların türüne ve oluşum özelliklerine göre belirlenen doğal bölgelere ne ad verilir?\n",
      "Vadilerden yamaçlara doğru esen meltemlere ne ad verilir?\n",
      "Tüketim artışı üretimi nasıl etkiler?\n",
      "Tüketimi arttıran şeylerin üretime etkisi ne olur?\n",
      "Japonya’nın kuzeydoğusundaki Honshu (Honşu) kıyıları açıklarında 24 km derinlikte ve 9 şiddetinde bir deprem meydana gelen nedir?\n",
      "Türkiye'nin coğrafi konumu, rüzgâr ve güneş enerjisi potansiyelini nasıl etkilemiştir?\n",
      "Deprem türleri nelerdir?\n",
      "Sıcaklık değerlerinin mevsim normallerinin altında uzun bir süre devam etmesine ne ad verilir?\n",
      "Sularını deniz veya okyanuslara ulaştırabilen akarsular ne özelliği gösterir?\n",
      "Mısırın son yıllarda artan üretim miktarına paralel olarak yem, yağ ve tatlandırıcı sektörü ile biyoyakıt- biyoetanol üretimindeki kullanımı nasıl değişir?\n",
      "Vadi'de değişimin temellerinin atılması anlamına gelen üniversitenin adı nedir?\n",
      "Ülke dışına doğru olan göçlere ne ad verilir?\n",
      "İlk anayasa olma özelliği taşıyan kanunların adı nedir?\n",
      "Tevha hareketleriyle meydana gelen yer değiştirme, sıkıştırma, gerilme ve kırılma sonucu oluşan sarsıntılar nelerdir?\n",
      "Nüfusun fazla ve sanayinin de ileri düzeyde olduğu bölgelerde özellikle yolcu taşımacılığında en çok tercih edilen önemli bir ulaşım sistemi nedir?\n",
      "Büyükşehir teşkilatı kurulduğunda köyler ne statüsüne dönüştürülmüştür?\n",
      "Yaz ve kış mevsimleri arasında oluşan sıcaklık ve basınç farklarına bağlı olarak oluşan rüzgarlara ne ad verilir?\n",
      "Hazar Gölü'ne döküldüğü için kapalı havza özelliği gösteren nehrimizin adı nedir?\n",
      "Son yıllarda yaşanan gelişmelere bağlı olarak hektar başına düşen traktör sayısı nasıl değişmiştir?\n",
      "Bir yıl içinde meydana gelen ölüm sayısının toplam nüfusa oranına ne denir?\n",
      "Bir yıl içinde meydana gelen ölüm sayısının toplam nüfusa oranına ne ad verilir?\n",
      "Şeker pancarının ülkemizdeki başlıca üretim alanları nerelerdir?\n",
      "Çevresine göre alçakta olan vadi, tektonik çukur veya koy gibi yerlerin önlerinin doğal setlerle kapanması sonucu oluşan göllere ne ad verilir?\n",
      "Rüzgar yönü ne ile ifade edilir?\n",
      "Doğal ve beşeri sistemleri toplayıp analiz yapılması için kurulan bilgisayar sistemi nedir?\n",
      "En yaygın nem ölçüm şekli nedir?\n",
      "Ne ile birlikte insanın doğaya olan müdahalesi daha da artmıştır?\n",
      "Amasya, Çorum, Samsun ve Tokat illerini kapsayan bölgesel kalkınma projesinin ismi nedir?\n",
      "Ülkemizde metalik olmayan madenlerin başlıcaları nelerdir?\n",
      "Buğdayın öğütülmesi sonucu ortaya ne çıkar?\n",
      "Dağların güneşe dönük yamaçlarında nasıl canlılar yaşamaktadır?\n",
      "Kıvrılan tabakaların yükselen kısımlarına ne isim verilir?\n",
      "Hava kirliliğine yol açan etkenlerden bazıları nelerdir?\n",
      "Alexander Von Humboldt'un (Aleksandır Van Humbolt) kurduğu coğrafya dalı nedir?\n",
      "Her tarım ürününün yetişme şartlarının farklı olması neye imkân tanımıştır?\n",
      "Her tarım ürününün yetişme şartlarının farklı olmasının imkân tanıdığı şey nedir?\n",
      "Gündüz denizden karaya doğru esen meltemlere ne denir?\n",
      "polen ve tohumların taşınmasını ne sağlar?\n",
      "Gelecekteki gıda ihtiyacını karşılamak için geliştirilen çiftçilik modeli nedir?\n",
      "Volkanizma sonucu yeryüzüne püsküren lavlar ile katı malzemelerin bir akarsu vadisi, çanak veya havzanın önünü kapamasıyla oluşan göllere ne ad verilir?\n",
      "Bitkisel ve hayvansal gıdalarla beslenen hayvanlara ne denir\n",
      "Akdeniz'in kuzeyinden esen rüzgarlar sıcaklığı nasıl etkiler?\n",
      "I. Jeolojik Zaman’da tek bir kıtaya verilen ad nedir?\n",
      "Gümrük vergisinin artması yerel üreticinin gelirini nasıl etkiler?\n",
      "Gümrük vergilerinin yükselmesi yerel üreticinin kazancını nasıl etkiler?\n",
      "Ham maddelerin sanayi merkezlerine sevk edilmesi ne ile gerçekleşmektedir?\n",
      "Kırılma sonucu tabakaların dikey yönde yer değiştirmesiyle oluşan yükseltilere ne denir?\n",
      "Termik santrallerin neden olduğu hangi çevre sorunu solunum yolu rahatsızlıklarında ciddi bir artışa sebep olmaktadır?\n",
      "İşlevsel bölgeleri şekilsel bölgelerden ayıran en önemli özellik nedir?\n",
      "Sanayi tesislerinin şehir içlerinde kalmasına ne neden olmaktadır?\n",
      "Ülkemizdeki başlıca enerji kaynakları nelerdir?\n",
      "Strabon'un Anadolu coğrafyasıyla ilgili kaleme aldığı eserin adı nedir?\n",
      "Somali ekonomisi büyük oranda hangi faaliyetlere dayanır?\n",
      "İnsanlar tarafından akarsu yatakları üzerine yapılan setlerin gerisinde suların birikmesi sonucu oluşan göllere ne ad verilir?\n",
      "Sulama olanaklarının daha yüksek olduğu yerlerde, tarımdaki verim nasıl etkilenir?\n",
      "Televizyon, bilgisayar, radyo vb. iletişim araçları ile röntgen ve tomografi türü tıbbi cihazlardan yayılan radyoaktif maddeler hangi çevre sorununa neden olur?\n",
      "Üretiminin %97,5'si GAP'tan karşılanan ürünün adı nedir?\n",
      "Üretim sürecini tüketime bağlayan süreç nedir?\n",
      "Üretimden sonra, tüketimden önce gerçekleşen süreç nedir?\n",
      "Türkiye'de üretim fazlası olan ürünlerle yapılan ekonomik faaliyet nedir?\n",
      "Fazla üretilen ürünlerin yurtdışına satılmasına ne denir?\n",
      "Levhaların sıkıştırması sonucu oluşan fay hatları deprem riskini nasıl etkiler ?\n",
      "Anadolu'da çok sayıda bulunan, düşmanlardan korunmak için etrafına surlar örülen yerleşme nedir?\n",
      "BDT'nin açılımı nedir?\n",
      "Ozon tabakasının incelmesi sonucunda yeryüzüne ulaşan zararlı ışın miktarı ne olur?\n",
      "Ozon tabakasının incelmesiyle yeryüzüne ulaşan ultraviyole ışınların miktarı nasıl etkilenir?\n",
      "Basınç ne ile ölçülür?\n",
      "Tektonik kırılma sonucunda yükselen kısımlara ne isim verilir?\n",
      "Artvin, Samsun ve Rize'yi de kapsayan kalkınma projesi nedir?\n",
      "Başlangıçta kıtaların tek kara parçası halinde oluşuna ne denir?\n",
      "Anamur Dragon Çayı'nın sularını KKTC'ye gönderilmesini sağlayan projenin adı nedir?\n",
      "Türkiye, suların akılcı ve verimli şekilde kullanılması için Anamur Dragon Çayı'nın sularını KKTC'ye gönderdiği projenin adı nedir?\n",
      "Yerleşmelerin kuruluşunu, gelişimini, fonksiyonlarını ve dağılışını inceleyen beşerî coğrafya dalıdır nedir?\n",
      "Un ve unlu ürünler sanayisinin temel ham maddesi nedir?\n",
      "yapay zekânın en yaygın kullanıldığı alanlardan biri nedir?\n",
      "Su kaynaklarının azalmasına neler sebep olmaktadır?\n",
      "Ekvator çevresini en iyi yansıtan projeksiyon yöntemi nedir?\n",
      "Amon­ yağın nitrat tuzlarına dönüşmesine ne denir?\n",
      "Türkiye’de tarım alanlarının yarıdan fazlasında ne yapılmaktadır?\n",
      "Özel olarak oluşturulmuş sistemler yoluyla Genel Ağ üzerinden verilen veya alınan siparişler ile mal ve hizmetleri alıp satma işlemine ne ad verilir?\n",
      "Genellikle ilkbahar ve yaz mevsimlerinde yüksek kesimlerdeki gür ot topluluklarından hayvancılık faaliyetlerinde yararlanmak amacıyla oluşturulan geçici yerleşmelere ne denir?\n",
      "Asya-Avrupa kıtalarının deniz altından kesintisiz bir demir yolu sistemi ile birbirine bağlanması, tarihî yarımadadaki araç sayısının azaltılarak tarihî ve kültürel çevrenin korunmasına katkı sağlanması amacıyla hayata geçirilen projenin adı nedir?\n",
      "Asya-Avrupa kıtalarının birbirine bağlanması, tarihî yarımadadaki araç sayısının azaltılarak tarihî ve kültürel çevrenin korunmasına katkı sağlanması amacıyla hayata geçirilen projenin adı nedir?\n",
      "Rusya tarafından Avrupa ülkelerine satılmakta olan doğal gazın yüzde 80'inin üzerinden geçtiği iç savaş yaşamış ülkenin adı nedir?\n",
      "Tibet öküzü, dağ keçisi, kar tavşanı ve kartalın yaşadığı biyom nedir?\n",
      "Yeryüzünde ot, çayır, ağaç gibi bitki formasyonlarına göre ayrılan bölgelere ne ad verilir?\n",
      "İnsanların geçimlerini daha çok tarımsal faaliyetlerden karşıladığı şehirlere ne ad verilir?\n",
      "Akarsu aşımının  son aşamasında taban seviyesine yaklaşmış arazilerde oluşan hafif düzlüklere ne denir ?\n",
      "Akarsu aşımının son aşamasında taban seviyesine yaklaşmış arazilerde oluşan hafif düzlüklere verilen isin nedir ?\n",
      "Son yıllarda dünyada sağlıklı ve dengeli beslenme alışkanlıklarının yanında uzun yaşama olan ilginin daha da artması, insanların zeytin ve zeytinyağı tüketimini nasıl değiştirmiştir?\n",
      "Toprağın inorganik kısımı nasıl oluşur?\n",
      "Türkiye'deki en eski sektör nedir?\n",
      "Türkiye'deki en eski sektöre ne ad verilir?\n",
      "Günümüzde ürünlerin uzak mesafelere taşınmasında kullanılan en yaygın ulaşım ağı nedir?\n",
      "Somali'nin arazisi genel olarak nelerden oluşur?\n",
      "Köylerdeki temel ekonomik etkinlik nedir?\n",
      "İnsanların işitme ve algılama gücünü olumsuz etkileyen, kişinin psikolojik ve fiziksel dengesini bozarak iş verimini düşürebilen ve çevrenin doğallığını bozan çevre sorunu nedir?\n",
      "yüzen deniz anası'nın teknik adı nedir?\n",
      "Geniş alanları etkileyebilecek işlevsel özelliklerin bulunmadığı ve sahip olunan nüfus miktarının az olduğu şehirlere ne ad verilir?\n",
      "Ne ürünlere kolay ve hızlı bir şekilde ulaşabilmenin yanı sıra insanların ihtiyaçlarını da belirlemektedir?\n",
      "İnsanlar tarafından açılan, gemilerin geçişine elverişli su yollarına ne denir?\n",
      "Toprağa katılan ve verimi artırmaya dönük inorganik veya mineral maddelere ne denir?\n",
      "Üreticiler ne yoluyla canlılar için gerekli olan organik bileşikleri üretir?\n",
      "Vadi içlerinde ve yüksek yerlerde nasıl canlılara rastlanır?\n",
      "Birikme ile oluşan içi kayaçların büyük bölümü nasıl bir yapıdadır?\n",
      "Buğday başta olmak üzere mısır, çeltik (pirinç), arpa, yulaf, darı ve kuş yemi gibi tarım ürünlerine ne denir?\n",
      "Artan nüfustan ekonomik faaliyetler nasıl etkilendi?\n",
      "Bir alanda yaşabilecek en fazla canlı birey sayısına ne denir?\n",
      "Bir alanın taşıyabileceği maksimum canlı birey sayısı ne olarak adlandırılır?\n",
      "Coğrafya bilimi açısından insanların hayatlarını sürdürmek ve ihtiyaçlarını karşılamak için yaptığı tüm faaliyetler ne olarak tanımlanır?\n",
      "Sanayi Devrimi’nin etkisiyle sanayi tesislerinin kurulması sonucu ortaya çıkan şehirlere ne ad verilir?\n",
      "Hangi yağmurlar yapıları aşındırarak özelliklerinin bozulmasına neden olmaktadır?\n",
      "Pirinç neyden yapılır?\n",
      "Ekonomik faaliyet olarak tarım ve hayvancılığın yaygın olduğu yerleşim birimi nedir?\n",
      "Ne endişesi ile insanlar, ulaşımın zor olduğu dağlık alanlara da yerleşmişlerdir?\n",
      "Milyonlarca yıl önce düşen yağışların yer altında birikmesiyle oluşan sulara ne ad verilir?\n",
      "Uganda’da sıcaklıkların 2 ºC artması durumunda kahve üretimi nasıl etkilenir?\n",
      "Ülkemizdeki bütün su kaynaklarının planlanması, yönetimi, geliştirilmesi ve işletilmesinden sorumlu olan kuruluşun adı nedir?\n",
      "Kurşunun en önemli kullanım alanı nedir?\n",
      "Biriken ve sertlik dereceleri birbirinden farklı olan tortul tabakalar, levhaların yaklaşması sonucu yan basınçlara uğraması ile neler oluşur?\n",
      "Birliğe üye Güney Amerika ülkeleri arasında serbest ticaret dolaşımını ve gümrük birliğini içeren ticari ortaklık nedir?\n",
      "Üyesi olan Güney Amerika ülkeleri arasında gümrük birliğini ve serbest ticaret dolaşımını içeren ticari ortaklık nedir?\n",
      "Panama Kanalı’na alternatif olarak inşa edilen kanalın adı nedir?\n",
      "Doğum oranında ciddi bir düşüşün görüldüğü ülkelere ait nüfus piramidinin adı nedir?\n",
      "Dünyanın yoğunluk ve sıcaklık bakımından üç katmanına ne ad verilmektedir?\n",
      "Metalik madenler nelerdir?\n",
      "Ticaret rüzgarları adı verilen rüzgarların diğer ismi nedir?\n",
      "Azotun bazı süreçlerden geçerek canlılara aktarılması ve daha sonra tekrar atmosfere dönmesine ne denir?\n",
      "Tarımsal üretimi neler etkilemektedir?\n",
      "Tarımsal üretimi etkileyen şeyler nelerdir?\n",
      "Suyun atmosfer ve yeryüzü arasında hareket ettiği sürece ne denir?\n",
      "elektrikli ve elektronik eşyalar üreten fabrikaların önemli bir ham maddesi nedir?\n",
      "volkanizma sonucu magmadan gelen ve yeryüzünde üst üste biriken malzemelerin özelliğine göre neler oluşur?\n",
      "Paleolitik ve Mezolitik dönemlerde insanlar nasıl geçinmiştir?\n",
      "Yerküreyi çepeçevre saran gazlardan oluşan ve hava olaylarının meydana geldiği ortama verilen isim nedir?\n",
      "Bitki türleri ile hayvan ırklarından daha yüksek verim elde etmek için yapılması gereken teknik çalışmalara tarımda ne denir?\n",
      "Buzulların erimesi sonucu oluşan akarsuların taşıdığı malzemelerin buzullar önünde birikmesi sonucu oluşan düzlüklere ne ad verilir ?\n",
      "Şekilsel bölgeler, bölge oluşturmada belirlenen kritere göre neye sahiptir?\n",
      "Alınan göç ile verilen göç arasındaki farka ne denir?\n",
      "Nüfus fonksiyonları açısından köy, kasaba ve şehir fonksiyonu gösterebilen; il ya da ilçe merkezi olmayan ancak belediye örgütlü yerleşme nedir?\n",
      "Akarsuyun kaynağından ağzına kadar içinde aktığı çukurluğa ne denir?\n",
      "Yenilenebilir (Alternatif) enerji kaynakları nelerdir?\n",
      "Yer kabuğunun diğer adı nedir?\n",
      "Bir maden yatağının işletmeye açılmasında en önemli etken nedir?\n",
      "Bir ülkenin diğer ülkelerle yaptığı her türlü alım satıma ne ad verilir?\n",
      "Bir ülke ile diğer ülkeler arasında yapılan her türlü alım satıma  ne ad verilir?\n",
      "Kalıcı kar sınırının üzerinde, sirk adı verilen çukurlarda bulunan buzullara ne ad verilir ?\n",
      "Basınç dağılışını göstermek için hazırlanan haritaların adı nedir?\n",
      "Ekosistemin cansız unsurlarına ne denir?\n",
      "Sanayi Devrimi ile üretimde görülen artışın yanı sıra ulaşım sisteminin gelişmesi, ürünlerin tüketim merkezlerine ulaştırılmasını nasıl etkilemiştir?\n",
      "Çorum ilinin Alaca ilçesi yakınında bulunan, MÖ 1600 yıllarında Hititlerin başkenti olan yerleşme nedir?\n",
      "Yoğun üretim yapan bölgelerde hibrit tohum kullanımının yaygınlaşması, üretim tekniklerindeki gelişmeler, sulanabilir alanların artması mısır üretimini nasıl değiştirir?\n",
      "Anadolu'da Tunç Çağı'na ait en önemli yerleşmelerden biri olan, Çorum ilinin Alaca ilçesi yakınında olan yerleşme nedir?\n",
      "Güneyden kuzeye gidildikçe Güneş ışınlarının düşme açısı nasıl değişir?\n",
      "Ülke sınırları içerisindeki her türlü mal ve hizmet alım satımına ne denir?\n",
      "Ülke sınırları içerisinde yapılan hizmet ve mal alım satımına ne ad verilir?\n",
      "Orman ürünlerine dayalı ham madde bakımından zengin olan yerler nerelerdir?\n",
      "Ne tür yerler orman ürünlerine dayalı ham madde bakımından zengindir?\n",
      "Sarp kayalar üzerine kurulan, etrafına surlar örülen yerleşme nedir?\n",
      "Kahverengi ve kestane renkli bozkır topraklarında A horizonu tabakasının kalınlığı nasıldır?\n",
      "Şehirsel yerleşmelerin ilk olarak görüldüğü yerler nerelerdir?\n",
      "Teknolojik gelişmeler sayesinde ürünlerin uzak mesafelere taşınmasının kolaylaşması ülkeler arası olumlu ilişkileri nasıl değiştirir?\n",
      "Akarsuyun döküldüğü yere ne denir?\n",
      "Engebenin az olduğu alanlarda meskenlerin bir meydanın etrafında toplanmasıyla nasıl yerleşmeler oluşur?\n",
      "Kutup buzullarının erimesiyle canlı türü sayısına ne olur?\n",
      "Sahip olduğu kıyı özellikleri açısından Kaş'ın örnek olduğu kıyı tipi nedir ?\n",
      "Biyosferde birbirleriyle sürekli etkileşim hâlinde olan canlılar ile bu canlıları saran çevreden oluşan şeye ne denir?\n",
      "Tohum ıslahı yapılan yerlerde tarım verimi nasıldır?\n",
      "Yüksek dağ yamaçlarında alçalmaya bağlı olarak oluşan ve çevresine göre belirgin şekilde sıcak ve kuru olan rüzgârlara genel olarak ne denir?\n",
      "Hititlerin kurduğu meclisin adı nedir?\n",
      "Tarım yapılan yerdeki engebelik arttıkça, tarımsal üretimde kullanılan makineleri kullanmak kolaylaşır mı?\n",
      "Besin maddeleri ve enerjinin üreticilerden otçullara, oradan da etçil­lere doğru aktarılmasına ne denir?\n",
      "Gece karadan denize esen meltemlere ne denir?\n",
      "Bitki örtüsünün seyrek olması kırgıbayır oluşumunu nasıl etkiler ?\n",
      "Nasıl yerleşmeler genellikle akarsu vadisi ya da yol boyunca sıralanan evlerden oluşur?\n",
      "Sanayi Devrimi'yle birlikte neyin icat edilmesi üretimde büyük bir artış yaşanmasına neden oldu?\n",
      "Bitki örtüsünün seyrek olması, rüzgara bağlı oluşan yeryüzü şekillerinin sayısını nasıl etkiler ?\n",
      "Genel olarak sıcak ve nemli iklim bölgelerinden, kurak ve soğuk iklim bölgelerine geçildikçe biyoçeşitlilik nasıl değişmektedir?\n",
      "Mal ve hizmetlerin, paranın, teknolojinin, kültürlerin ülke sınırları düşünülmeksizin akışı ve aktarımına ne ad verilir?\n",
      "Paranın, teknolojinin, kültürlerin, mal ve hizmetlerin ülke sınırları göz önüne alınmadan akışı ve aktarımına ne ad verilir?\n",
      "Hint uygarlığı, ne şekilde yönetilmiştir?\n",
      "Akarsu yatağının herhangi bir kesitinden bir saniyede geçen su miktarına ne denir?\n",
      "Sulama imkânlarının gelişmesine bağlı olarak pamuk üretim bölgesi nasıl etkilenir?\n",
      "Azonal topraklar nasıl bir horizon yapısına sahiptir?\n",
      "Dağlardan vadilere doğru esen meltemlere ne denir?\n",
      "Ticaretteki en büyük değişime sebep olan ve buhar gücüyle çalışan makinelerin icadını beraberinde getiren olay nedir?\n",
      "Alman coğrafyacı Alexander Von Humboldt'un çalışmalarını topladığı 4 ciltlik eserin adı nedir?\n",
      "Yeryüzünün belirli bir bölgesinde yaşayan ve başka sahalarda rastlanmayan bitki türlerine ne denir?\n",
      "Hayvansal ham madde üretiminin yoğun olduğu yerlerin özellikleri nelerdir?\n",
      "Hayvansal ham madde üretimi ne tür alanlarda yoğun olarak yapılır?\n",
      "İnsanın biyosfer üzerindeki etkisinin en önemli unsurlarından biri nedir?\n",
      "Bir ülkede bir yıl boyunca ulusal kaynaklardan elde edilen mal ve hizmetlerin piyasa fiyatlarına göre hesaplanan toplam değerine ne denir?\n",
      "Çayır ve meraların bir bölümünün tarım alanına çevrilmesi, tarım arazilerini nasıl değiştirir?\n",
      "Otla beslenen hayvanlar ne tür toprakları tercih eder?\n",
      "Sahip olduğu unsurlara göre sınırlandırılmış, genelde benzer özellikteki yeryüzü parçaları veya mekân birimlerine ne ad verilir?\n",
      "Kızılçam ormanlarının orman altı bitkisi nedir?\n",
      "Göç alan yerlerde trafik nasıl değişir?\n",
      "Şekilsel bölgelerin ölçüm ve sınıflandırmasının nüfus, tarım ve yerleşme gibi konulara göre belirlendiği bölgelere ne ad verilir?\n",
      "ABD’de Kaliforniya eyaletinde bulunan San Jose (Sen Hoze) Vadisi'nde eskiden ne üretimi yoğunlukla gerçekleşiyordu?\n",
      "Almanya'da nüfus artış hızı nasıldır?\n",
      "Almanya'nın nüfus artış hızı nasıldır?\n",
      "Göçebe yaşayan ailelerin hayvancılık yapmak amacıyla oluşturduğu geçici yerleşmelere ne denir ?\n",
      "Tropikal rüzgarlara Büyük Okyanus'ta ne denir?\n",
      "Hidrosferde derinlik artışına bağlı olarak oksijen nasıl değişir?\n",
      "Tropikal rüzgarlara Hint Okyanusu'nda ne denir?\n",
      "Bitki örtüsü üzerinde etkili olan biyolojik faktörlerin başında ne gelir?\n",
      "bir ya da birden fazla mineralin birleşmesinden oluşan katı ve doğal maddenin adı nedir?\n",
      "Ticaretin hızlı bir şekilde ve daha uzak yerlere yapılmasını sağlayan etkenler nelerdir?\n",
      "Ege'nin kıyı kesiminde yer alan ovalar nedir?\n",
      "Hangi  tür yakıtların tüketilmesi sonucu atmosfere salınan gazlar sera etkisi ile iklim değişikliklerine neden olmaktadır?\n",
      "Su buharı, karbondioksit, metan, azot oksit, ozon gibi gazların toplamına ne ad verilir?\n",
      "Kırsaldan şehirlere doğru göçler ile nüfusun hızlar artması, suç oranlarını nasıl etkilemiştir?\n",
      "Göçler sonucu nüfusun hızla artması suç oranlarını nasıl değiştirmiştir?\n",
      "Yağış ya da bitki örtüsü gibi özelliklerin sınırları belirlenirken nasıl bir geçiş söz konusudur?\n",
      "Deniz ve okyanuslarda dalga çatlaması sonucu havaya karışan tuzlara ne ad verilir?\n",
      "Gelir düzeyinin artması tüketim faaliyetlerini nasıl etkiler?\n",
      "Birbirine benzeyen ve sadece kendi aralarında verimli gen alışverişi yapabilen bireylerden oluşan topluluğa ne denir?\n",
      "Almanya'nın resmi adı nedir?\n",
      "Metal dışı madenler nelerdir?\n",
      "Rüzgarın şiddetli olduğu yerlerde, toprağın ve küçük boyutlu malzemenin taşınmasıyla kayaların yüzeyde kalması sonucu oluşan şekle ne denir ?\n",
      "İlk kurulan şehirlerde zamanla üretimin artması sonucu ortaya çıkan üretim fazlası ürünlerin, insanlar arasında değiş tokuş yöntemiyle el değiştirmeye başlaması neyin başlangıcı olarak kabul edilmektedir?\n",
      "Tatlı su biyomları nelerden oluşur?\n",
      "Okyanus ve denizlerdeki tuzluluğun kaynağı nelerdir?\n",
      "Ekvator’a yakın alanlarda, daha çok deniz üzerinde oluşan ve saatte 160 km’den daha hızlı esen rüzgarlara ne ad verilir?\n",
      "Çöllerde yer altı suları bakımından zengin, hurma ve palmiye ağaçlarının bulunduğu alanlara ne denir?\n",
      "Strabon'un kültürel farklılaşmaya, yönetim biçimlerine ve tikel yerlerin geleneklerine dair bir tür açıklama girişimi olan eserinin adı nedir?\n",
      "İlk canlıların adı nedir?\n",
      "Tüketiciler ne tüketerek yaşam­larını devam ettirir?\n",
      "Okyanus, deniz, göl ve akarsu gibi suların oluşturduğu ortama verilen isim nedir?\n",
      "Süveyş Kanalı'nın açılmasıyla Akdeniz limanlarının önemi nasıl değişmiştir?\n",
      "Sıcaklık, yağış gibi iklim elemanları ve iklim tipleri esas alınarak belirlenmiş olan doğal bölgelere ne ad verilir?\n",
      "Ülke içerisinde yapılan ticarete ne denir?\n",
      "Herhangi bir alanda yaşayan nüfus ile o alanın yüz ölçümü arasındaki orana ne ad verilir?\n",
      "Herhangi bir alanda yaşayan nüfus ile o alanın yüz ölçümü arasındaki oran ile ifade edilen ölçüte ne ad verilir?\n",
      "Dünya’nın Güneş’e en uzak olduğu tarih nedir?\n",
      "Kıtaların kenarında yer alan, okyanuslardan eşiklerle ayrılmış ancak geniş boğazlarla okyanuslara bağlantısı olan denizlere ne denir?\n",
      "Mağaraları birbirine bağlayan boşluklara ne ad verilir ?\n",
      "1950 yılından 2016 yılına kadar ülkeleri ziyaret eden turist sayısı nasıl değişmiştir?\n",
      "1950 yılından 2016 yılına kadar ülkeleri ziyaret eden turist sayısında nasıl bir değişim yaşanmıştır?\n",
      "Mal ve hizmetlerin tüketiciye ulaştırılması faaliyetine ne denir?\n",
      "Mal ve hizmetlerin tüketiciye ulaştırılması faaliyeti nedir?\n",
      "Okyanus ve denizlerde yaşam alanlarını belirleyen başlıca etmenler nelerdir?\n",
      "Başkalaşım kayaçlar nasıl oluşur?\n",
      "Üretim, dağıtım ve tüketim faaliyetlerinin serbestçe yapılabildiği ekonomik düzene ne ad verilir?\n",
      "ABD, Kanada ve Meksika tarafından üye ülkeler arasındaki gümrük vergileri gibi ticari engellerin kaldırılması amacıyla yapılan antlaşma nedir?\n",
      "Kutuplardaki termik yüksek basınç alanlarından 60 derece enlemlerindeki dinamik alçak basınç alanlarına doğru esen rüzgarlara ne ad verilir?\n",
      "İnsanların en temel ihtiyacı nedir?\n",
      "İnsanların ekonomik seviyesi ve kültüründen bağımsız en temel ihtiyacı nedir?\n",
      "Canlıların doğal ortamlar içerisinde yaşadığı küreye ne ad verilir?\n",
      "Kuşlar, yarasa, yılan, maymun, puma, jaguar, geyik ve timsahın yaşadığı biyom türü nedir?\n",
      "Göç veren yerlere bakıldığında ise nüfusun yer değiştirmesi tarım ve hayvancılığı nasıl etkiler?\n",
      "Atmosferdeki karbondioksit suda çözündüğünde ne oluşur?\n",
      "Doğumların ölümlerden fazla olması sonucu meydana gelen nüfus artışına ne ad verilir?\n",
      "Doğumların ölümlerden fazla olması sonucu meydana gelen nüfus artışına ne denir?\n",
      "New York'un en büyük caddesinin ismi nedir?\n",
      "Ağaçların zararlı böceklerden korunma adına salgıladığı madde nedir?\n",
      "Ilıman okyanusal iklimin doğal bitki örtüsü nedir?\n",
      "İnsanların beslenme, barınma ve giyinme gibi ihtiyaçlarına ne ad verilir?\n",
      "Dünyadaki pek çok şirketin fabrikalarını Çin’e taşımasının sebebi nedir?\n",
      "Dünyadaki pek çok şirketin fabrikalarını Çin'e kurmasının nedeni nedir?\n",
      "Küre olan Dünyayı düzleme aktarmaya ne denir?\n",
      "Mağara tavanlarından damlayan suların içerisindeki malzemenin tabanda birikmesiyle oluşan şekil nedir ?\n",
      "Benzer bitki ve hayvan topluluklarından oluşan ekosistemlere ne denir?\n",
      "Canlıların bünyesinde belirli bir miktarda bulunan ve terleme yoluyla kaybedilen suyun yeter­li düzeyde alınmaması neye sebep olur?\n",
      "Fosil yakıtların kullanımıyla atmosferdeki karbondioksit miktarına ne oldu?\n",
      "İnkalar, hangi adlı Güney Amerika’ya özgü hayvanları beslemişlerdir?\n",
      "İnkaların beslediği Güney Amerika'ya özgü hayvanın adı nedir?\n",
      "Fotosentez olayının gerçekleşebilmesi için nelere ihtiyaç vardır?\n",
      "Maar nedir?\n",
      "Kayaç grupları nelerdir?\n",
      "bilinen en sert taş nedir?\n",
      "İnsanların banyo ve mutfak gibi zorunlu ihtiyaçlarını karşılayabileceği küçük ünitelerden oluşan minimal yaşam alanları nelerdir?\n",
      "Geleneksel yöntemlerle tarımın yapıldığı yerlerde verim nasıldır?\n",
      "Modern yöntemlerle değil, geleneksel yöntemlerle tarım yapılan yerlerde verim nasıldır?\n",
      "Modern yöntemlerin kullanılmadığı daha çok geleneksek yöntemlerin kullanuıldığı tarım bölgelerinde verim nasıldır?\n",
      "Yeryüzünde depremlerin yoğunlaştığı üç ana kuşak nelerdir?\n",
      "Ulusal ve uluslararası ticaret, borsa, bankacılık, sigortacılık, ulaşım gibi ekonomik faaliyetlerin bulunduğu şehirlere ne ad verilir?\n",
      "Çekirdeğin yapısında ne bulunur?\n",
      "Akarsuyun akım miktarının yıl içinde gösterdiği değişmelere ne denir?\n",
      "Karadeniz Sahil Yolu, nasıl inşa edilmiştir?\n",
      "Hinterlandı geniş, önemli koy ve körfezlere sahip olan, ticaretin genellikle liman aracılığıyla yapılması sonucu gelişen şehirler ne çeşit şehirlerdir?\n",
      "Konya'da Çumra ilçesinin 11 km kuzeyinde yer alan tarihi yerleşme nedir?\n",
      "Volkan küllerine ne denir?\n",
      "Topraktaki humus miktarı arttıkça toprağın rengi nasıl değişir?\n",
      "Jeolojik olayların ve oluşumların tarihlendirildiği, kayaçların yaşının saptandığı çalışma alanına ne denir?\n",
      "Sosyal faaliyetlerin geliştiği yerleşmelere gelen nüfus, şehirleşmeyi nasıl etkiler?\n",
      "Akarsu yatağının herhangi bir kesitinden bir saniyede geçen su miktarına ne denir?\n",
      "Kıtaların bir kıyısından diğer kıyısına ulaşan ve çok uzun mesafeli olan demir yolları nedir?\n",
      "Arpanın yetişme koşulları da buğdayınkine benzer mi?\n",
      "Ayı, tilki, kar tavşanı, geyik, samur, vizon, vaşak, kurt, kunduz ve kartalın yaşadığı biyom nedir?\n",
      "Türkiye'nin yer şekilleri genellikle nasıldır?\n",
      "Kara ve deniz yollarından sonra Sanayi Devrimi sayesinde buhar gücüne dayalı makinelerin çalıştırılması ile temelleri atılan ulaşım sistemi nedir?\n",
      "Genellikle ulaşım hatlarının geliştiği ve ticari faaliyetlerin yoğunlaştığı şehirlere ne ad verilir?\n",
      "Arazilerin jeolojik, jeomorfolojik, bitki örtüsü, su kaynakları, toprak vb. özelliklerinin dikkate alınarak kullanılmasına ne ad verilir?\n",
      "Bozulan izostatik denge so­nucu yükselerek oluşan kara parçasına ne denir?\n",
      "Ekstansif tarım metodunda sulama, gübreleme, ilaçlama ve kaliteli tohum kullanımı gibi uygulamalar nasıldır?\n",
      "topraktaki azotun atmosfere geri dönmesine ne denir?\n",
      "Kutup noktalarına eşit uzaklıkta bulunan noktaların birleştirilmesi ile oluşturulan çembere ne denir?\n",
      "Hangi devrimin Avrupa’da başlaması, Avrupa kültürünün dünyanın önemli bir kısmında etkin olmasına neden olmuştur?\n",
      "Hayvancılık faaliyetleriyle uğraşan aileler tarafından kurulmuş geçici yerleşmelere ne denir?\n",
      "Mal ve hizmetlerin bir yerden başka bir yere taşınmasına ne ad verilir?\n",
      "Dünyada nüfusun toplanma durumunu belirlemek ve dünya üzerinde bulunan iki farklı yeri karşılaştırabilmek için kullanılan ölçüt nedir?\n",
      "Buzulların aşındırmasıyla oluşmuş çukurlara ne ad verilir ?\n",
      "Deprem neden oluşur?\n",
      "Jeotermal kaynaklardan ilk ve orta çağlarda ne amacıyla faydalanılmıştır?\n",
      "Jeotermal kaynakların ilk ve orta çağlarda faydalanılma amacı nedir?\n",
      "Baritin işlendiği yerler nerelerdir?\n",
      "Genellikle yağış getirmeyen sürekli rüzgar türü nedir?\n",
      "Ülkede yeterli olmayan ürünlerin yurtdışından satın alınmasına ne denir?\n",
      "Ülkede yeterince üretilemeyen maddelerin yurt dışından satın alınmasına ne denir?\n",
      "Nüfus artışı ve yaşam standardının yükselmesi, pamuğa olan talebi nasıl değiştirir?\n",
      "Baklagiller yetiştirildiği toprağı nasıl etkiler?\n",
      "İstanbul’un Asya ve Avrupa yakalarındaki demir yolu hatları, İstanbul Boğazı’nın tabanına ne yerleştirilerek birleştirilmiştir?\n",
      "Türklerin Orta Asya'dan göç etmesindeki nedenlerin temel kaynağı nedir?\n",
      "Heyelan sonucu dağların yamacından kopup gelen kütlelerin özellikle derin vadilerin önünü kapaması sonucu oluşan göllere ne ad verilir?\n",
      "Eğimin fazla olduğu yerlerde toprak nasıl bir yapıya sahiptir?\n",
      "Bor minerallerinin ülkemizdeki başlıca kullanım alanları nelerdir?\n",
      "Kişi başına düşen milli gelirin 1.000 ile 10.000 dolar arasında olduğu ülkelere ne ad verilir?\n",
      "Kişi başına düşen milli gelirin 1000 dolardan fazla 10.000 dolardan az olduğu ülkelere ne denir?\n",
      "A horizonu nasıl bir renk tonuna sahiptir?\n",
      "Azonal topraklar mineral miktarı açısıdan nasıldır?\n",
      "Yeryüzüne yakın hava içerisinde asılı duran ve çok küçük sıvı damlacıklarından oluşmuş, fazla yoğun ve kalın olmayan yoğunlaşmış kütleye ne denir?\n",
      "Yer altı sularının yeryüzüne çıktığı yerlere ne denir?\n",
      "Çevreye verilen zararın giderilmesi sorumluluğunu kirleten kişiye yükleyen çevre politikası ilkesinin adı nedir?\n",
      "Çevre kirliliğinin kontrol altında tutulması için çevreye verilen zararların giderilmesi sorumluluğu ve maliyetini kirleten tarafa yüklenmesini öngören çevre politikası ilkesi nedir?\n",
      "Havayı, suyu ve toprağı etkileyerek doğanın tahribine neden olan yağmur çeşidi nedir?\n",
      "Buğdaydan sonra en çok yetiştirilen tahıl nedir?\n",
      "Gübre kullanmak tarımsal verimliliği nasıl etkiler?\n",
      "Güneş'e uzaklığı yaklaşık 150 milyon kilometre olan gezegenin adı nedir?\n",
      "İsmini Alpler’in kuzey eteklerinde oluşan sıcak ve kuru rüzgârlara verilen isimden alan rüzgarlara ne denir?\n",
      "Buzullar tarafından taşınan morenlerin meydana getirdiği setlerin gerisinde suların toplanması ile oluşan göllere ne ad verilir?\n",
      "Buzullar tarafından taşınan morenlerin meydana getirdiği setlerin gerisinde suların toplanması ile oluşan göllere ne denir?\n",
      "İnsanların yaşamlarının devamı, temel ihtiyaçlarının karşılanabilmesi veya daha iyi yaşam şartlarına sahip olabilmeleri amacıyla yapmış oldukları etkinliklerin geneline ne denir?\n",
      "İnsan uygarlığının ortaya çıkmadığı milyarlarca yıl önce var olan iklim koşullarına ne denir?\n",
      "Kuraklık su kaynaklarını ne yönde etkiler?\n",
      "Bilinçsiz su tüketiminin su kaynakları üzerindeki etkisi ne yöndedir?\n",
      "Yeryüzü ve atmosferin farklı ısınması sonucu ortaya çıkan sıcaklık ve basınç farkından dolayı oluşan hava olayı nedir?\n",
      "Göçler sonucu şehirlerin kenar mahallelerinde oluşan altyapısı eksik, plansız ve düzensiz yerleşmelere ne ad verilir?\n",
      "2007'den itibaren ülkemizin nüfusunun sayıma gerek olmaksızın belirlenmesini sağlayan sisteme ne ad verilir?\n",
      "Can ve mal kaybına neden olabilen heyelan, sel, fırtına, deprem gibi doğada meydana gelen olaylara ne denir?\n",
      "Gelecekte yaşayacak kişilerin hayat ve ihtiyaçlarını güvende tutarak şimdiki kuşakların ihtiyaçlarını karşılamayı hedefleyen ekonomi politikalarına ne denir?\n",
      "Hem şu anda yaşamakta olanların ihtiyaçlarını gidermeyi hem de gelecek kuşakların ihtiyaçlarını tehlikeye atmamayı hedefleyen ekonomik politikalara ne ad verilir?\n",
      "Jeolojik zamanlarda meydana gelen yer kabuğu hareketleri neyin sonucu gerçekleşmiştir?\n",
      "Binaların kırsal alanlardaki binalara göre daha sık, çok katlı ve sayıca fazla olduğu yerleşme nedir?\n",
      "Eğimin az olduğu yerlerde toprak nasıl bir yapıya sahiptir?\n",
      "Deniz ve okyanus tabanlarında biriken kalın tortul tabakalara ne denir?\n",
      "Zonal topraklar nasıl yerlerde oluşur?\n",
      "Özel olarak düzenlenmiş havuzlarda bilimsel yöntemlerle ve ticari amaçla balık üretme işlemine ne denir?\n",
      "İçme ve kullanma suyu, sulama, jeotermal enerji üretimi gibi birçok alanda kullanılan, dünyadaki tatlı su varlığının %30,8'ini oluşturan kaynak nedir?\n",
      "Toros Dağları boyunca görülen Akdeniz ormanlarında bitkilerin yaz kuraklığına karşı dayanıklı olmalarını ne sağlamıştır?\n",
      "Orta Doğu'daki petrolün dünyaya; Batı Avrupa'daki sanayi ürünlerinin de doğuya aktarılmasında kullanılan yolun en önemli noktası nedir?\n",
      "Denizlerden uzaklaştıkça nemlilik nasıl değişir?\n",
      "Yeryüzünün aşındırmasının büyük oranda durduğu alt sınıra ne ad verilir ?\n",
      "Ticarete farklı bir boyut kazandıran olaylar nelerdir?\n",
      "İlk kültürlerin ortaya çıktığı yerlerden biri olan Hindistan’daki  egemen manevi kültürü neler oluşturmaktadır?\n",
      "biyosferdeki biyoçeşitliliğin oluşmasında ve dağılışında belirleyici faktör nedir?\n",
      "Kişi ya da toplumların kazanç sağlamak amacıyla bir yerden bir yere taşıdıkları her türlü ham ya da işlenmiş mal, hizmet, yiyecek içecek gibi şeylerin alım satımını ve değiş tokuşunu kapsayan ekonomik bir etkinlik nedir?\n",
      "Aktif volkanik bölgelerde yer altındaki sıcak suların ve su buharının belirli aralıklarla fışkırması sonucu oluşan kaynaklara ne denir?\n",
      "Karadeniz ikliminde yaygın yağış türü nedir?\n",
      "Ozon tabakası seyrelmesi insan ve hayvanlarda ne tür kansere neden olmaktadır?\n",
      "Kıyılardan iç kesimlere gidildikçe karasallık nasıl değişir?\n",
      "Yerel saat farklılıklarının ortaya çıkardığı karışıklığı ortadan kaldırmak için hayata geçirilen uygulama nedir?\n",
      "Az gelişmiş ülkelerde neyin ekonomideki payı daha fazladır?\n",
      "Az gelişmiş ülkelerde ekonomideki payı daha fazla olan sektör nedir?\n",
      "Yazların sıcak ve kurak geçtiği bölgelerde nelerin yaygın olması sonucu küçükbaş hayvancılık yaygındır?\n",
      "Bir hava kütlesindeki su buharı basıncının aynı sıcaklıktaki doymuş su buharı basıncına oranına ne denir?\n",
      "Net göçün negatif değerde olması nüfusu nasıl etkiler?\n",
      "Dünya'nın oluşumundan itibaren meydana gelen olaylar ve bu olaylar arasındaki ilişki, kronolojik bir sistem olan ne ile gösterilir?\n",
      "Alman coğrafyacı Alexander Von Humboldt'un öğretim üyeliği yaptığı akademinin adı nedir?\n",
      "Oluşumlarına göre rüzgar çeşitleri nelerdir?\n",
      "Kömür, petrol ve doğal gaz gibi fosil yakıtların yanması sonucu atmosfere ne karışır?\n",
      "Orta Asya'da egemen olan iklim nedir?\n",
      "Isınma özellikleri farklı olan yüzeyler arasındaki günlük sıcaklık ve basınç farklarına bağlı olarak ortaya çıkan günlük devirli rüzgarlara ne denir?\n",
      "İzlenen tarım politikaları ve yaşanan gelişmelere bağlı olarak tarımın ülke ekonomisindeki payı nasıl değişmiştir?\n",
      "Düşmanlardan korunmak için etrafına surlar örülen yerleşme nedir?\n",
      "İstanbul Atatürk Havalimanı’nın yoğunluğu ve kapasite yetersizliği sebebiyle Bakanlar Kurulu kararı ile inşa edilmesine karar verilen havalimanının adı nedir?\n",
      "Türkiye'de, 1923-1965 Dönemi'nde nüfus ne yönde değiştirilmeye çalışılmıştır?\n",
      "Bir yıldızın ölüm anı nedir?\n",
      "Ekosistemde üreticiden tüketiciye doğru oluşan zincire ne ad verilir?\n",
      "Üreticiden tüketiciye doğru ekosistemde oluşan zincire ne denir?\n",
      "Demografik, sosyal ve ekonomik verilerin toplanması, değerlendirilmesi ve analiz edilmesine ne ad verilir?\n",
      "Demografik, sosyal ve ekonomik verilerin toplanması, değerlendirilmesi ve analiz edilmesi işlemine ne denir?\n",
      "Rüzgarın hızı ne ile ölçülür?\n",
      "Canlıların yeryüzüne dağılışını etkileyen fiziki etmenler nelerdir?\n",
      "Yaşayan varlıkların yeryüzüne dağılışına etki eden fiziki etmenler nelerdir?\n",
      "Turizm faaliyetine katılan insanlar; gittikleri yerleri nasıl etkilerler?\n",
      "Turistler gittikleri yerleri nasıl etkilerler?\n",
      "Güneydoğu Asya kıyılarına bol yağış bırakan musonlara ne ad verilir?\n",
      "Genellikle belli bir plana göre inşa edilen yerleşme nedir?\n",
      "Birbirine uzak birden fazla mahallenin birleşmesiyle oluşmuş yerleşmelere ne denir?\n",
      "Ülkemizde metalik madenlerden başlıcaları nelerdir?\n",
      "Taş ve toprağa dayalı sanayiden elde edilen başlıca ürünler nelerdir?\n",
      "Depremin yapılar ve insanlar üzerindeki etkilerinin bir ölçüsüne ne denir?\n",
      "Irak Sorunu'nun bir parçası olarak Irak'ı işgal etmiş ülkenin adı nedir?\n",
      "Bir yerin kendine özgü saatine ne denir?\n",
      "Göç alan yerlerde sosyal ve kültürel çeşitlilik nasıl değişir?\n",
      "Ülkemizde barit yataklarının bulunduğu başlıca yerler nerelerdir?\n",
      "Doğal ve beşerî turizm varlıklarının bulunması sayesinde gelişen şehirlere ne ad verilir?\n",
      "Çeşitli kaynaklardan beslenerek yeryüzünde eğim doğrultusunda bir yatak içinde akışa geçen sulara ne denir ?\n",
      "Bir yatak içinde, yeryüzünde, eğim doğrultusunda akışa geçen ve çeşitli kaynaklardan beslenen sulara ne denir ?\n",
      "Kahverengi orman topraklarınde kireç oranı nasıldır?\n",
      "Doğu Anadolu Projesi amaçlarına ulaşırsa bölge dışına olan göç nasıl değişir?\n",
      "Meskenlerin sıra halinde bulunduğu yerleşmelere nasıl yerleşme denir?\n",
      "Türkiye'nin yer aldığı iklim bölgesinin adı nedir?\n",
      "1988’de iklim değişikliğine insan etkilerini değerlendirmek için kurulan organizasyonun adı nedir?\n",
      "1988’de iklim değişikliğinin risklerini değerlendirmek için kurulan organizasyonun adı nedir?\n",
      "Kutup buzullarının erimesiyle deniz seviyesine ne olur?\n",
      "Deniz seviyesi, kutuplardaki buzulların erimesiyle nasıl etkilenir?\n",
      "Yağışın az olduğu bölgelerde basınç düzeyi nasıldır?\n",
      "Bir kültürün doğduğu yere yani o kültürün kaynak alanına ne ad verilir?\n",
      "Kalsimorfik toprak çeşitleri nelerdir?\n",
      "Geven, yumak, tarla sarmaşığı, düğün çiçeği, sarı çiçekli orman gülü, mine, kardelen, taşkıran ve yıldız neyin türleridir?\n",
      "6.000 metreden daha yüksekte olan bulutlara ne denir?\n",
      "Geven, yavşan otu, çoban yastığı, gelincik, sığırkuyruğu, adaçayı, üzerlik, çayır üçgülü, kılıç otu ve çakır dikeni ülkemizde görülen neyin türleridir?\n",
      "Ticarette asıl amaç nedir?\n",
      "Ticari etkinliklerin temel amacı nedir?\n",
      "Türkiye’nin petrol ithal ettiği ülkeler nelerdir?\n",
      "Akarsuyun sahip olduğu akımın artmasıyla taşıdığı su miktarının çevredeki arazilerde göllenmesine ne denir?\n",
      "Karadeniz ikliminin yağış rejimi nasıldır?\n",
      "Yıl içerisinde biri yağışlı diğeri yağışsız veya az yağışlı iki mevsim oluşmasına neden olan rüzgar türü nedir?\n",
      "Pangea neyin etkisiyle zaman içerisinde parçalanarak çok sayıda kıtaya bölünmüştür?\n",
      "Tüketim artışı dağıtımı nasıl etkiler?\n",
      "Tüketimi arttıran faktörlerin dağıtıma etkisi ne olur?\n",
      "Genellikle akarsu vadilerinde,  akarsuyun üzerinde aktığı tabanın iki yanında ve belli bir yükseltide kalmış düzlüklere  denir ?\n",
      "Byolojik çeşitlilik nedir?\n",
      "Kanyon, obruk, traverten ve mağara gibi yeryüzü şekillerinin oluşmasında en etkili olan kayaç türünün isme nedir ?\n",
      "Bilim, sanat ve eğitim gibi çeşitli kültürel faaliyetlerin ön planda olduğu şehirlere ne ad verilir?\n",
      "Maden yatağında bulunan ve henüz işlenmemiş toplam maden miktarına ne denir?\n",
      "İlk yerli Türk otomobilinin adı nedir?\n",
      "İzmir İktisat Kongresi'nde alınan kararlar doğrultusunda yeni kurulacak devletin ekonomik yapısının ne özellikte olması fikri benimsenmiştir?\n",
      "Bir istasyonda öteki yönlere göre daha düzenli ve sık esen rüzgarlara ne denir?\n",
      "Sanal ortamda kanunlara aykırı olarak gerçekleşen ve suç olarak tanımlanabilen her türlü eyleme ne ad verilir?\n",
      "Sanal ortamda gerçekleşen, kanunlara aykırı ve suç olarak tanımlanabilen her türlü eyleme ne denir?\n",
      "İnsanların önce yakın bir yerleşim alanına, daha sonra büyük bir şehre göç etmesine ne ad verilir?\n",
      "Maden yatağından çıkarılan taş ve toprakla karışık maden miktarına ne denir?\n",
      "Çin Denizi, Japon Denizi ve Kuzey Deniz nelere örnek verilebilir?\n",
      "Hidrosferde derinlik artışına bağlı olarak  sıcaklık değerleri nasıl değişir?\n",
      "Levhaların hareket etmesiyle ilgili en bilinen kuram nedir?\n",
      "Sera gazının düşürülmesini teklif eden, bağlayıcı olmayan ilk uluslararası sözleşmenin adı nedir?\n",
      "İklim değişikliğinin olumsuz etkilerinin önlenmesini teklif eden, bağlayıcı olmayan ilk uluslararası sözleşmenin adı nedir?\n",
      "İnsanların üretim, dağıtım ve tüketim gibi etkinliklerinin tümüne ne ad verilir?\n",
      "benzer yetişme şartlarına sahip bitki ve hayvan topluluklarını içinde barındıran böl­gelere ne denir?\n",
      "Fırtınaların en hızlı gelişen ve en yıkıcı etkiye sahip olanına ne nedir?\n",
      "Toprağa karışan bitki ve hayvan parçalarının ayrışmasını ve bunların organik maddeye dönüşmesini sağlayan nedir?\n",
      "Ülkelerin gelişmişlik seviyeleri artması üçüncül ekonomik faaliyetlerde çalışan sayısını nasıl değiştirir?\n",
      "Bitkiler kökleriyle topraktan ne alarak büyür?\n",
      "Türkiye'nin yer şekilleri ulaşımı nasıl etkilemektedir?\n",
      "Türkiye'de dağlar ulaşımı nasıl etkilemektedir?\n",
      "İnsanların geçimlerini genellikle tarım, hayvancılık, ormancılık, balıkçılıktan sağladığı ve nüfus miktarı az olan yerleşme çeşidine ne ad verilir?\n",
      "Atmosfere karışan karbon küresel iklim değişimini nasıl etkiler?\n",
      "Ekvatordan kutuplara gidildikçe meridyenler arası mesafe nasıl değişir?\n",
      "Azerbaycan’ın Şahdeniz sahasından üretilecek 16 milyar metreküp doğal gazı taşıyacak proje nedir?\n",
      "Azerbaycan’ın Şahdeniz sahasından üretilecek doğal gazı taşıyacak projenin adı nedir?\n",
      "Dünyada en fazla balık avlanan yerler nerelerdir?\n",
      "Balıkçılığın en çok yapıldığı yerler nerelerdir?\n",
      "Turizm faaliyetlerine katılan kişilere ne denir?\n",
      "Dinlenme, eğlenme, görme, tanıma vb. amaçlarla sürekli ikamet ettiği yerden başka bir yere geçici bir süre içinde gezi yapan kişilere ne denir?\n",
      "Tenör nedir?\n",
      "Bölge oluşturulurken karşılaşılan en büyük zorluk nedir?\n",
      "Kişi başına düşen milli gelirin 10.000 dolardan fazla olduğu ülkelere ne ad verilir?\n",
      "Kişi başına düşen milli gelirin 10000 doların üzerinde olduğu ülkelere ne denir?\n",
      "Tamamı Türkiye'de bulunan ve 1967'de işletmeye açılan boru hattı nereler arasındadır?\n",
      "Basıncın birimi nedir?\n",
      "Uzmanlara göre insanlığın 2100 yılına kadar yaşama şansı sadece nedir?\n",
      "Yer kabuğu içerisinde meydana gelen depremin başladığı noktaya ne denir?\n",
      "Batıda Saroz Körfezi'nden başlayıp doğuda Van'a kadar uzanan fay hattının ismi nedir ?\n",
      "Sıcak ve nemli hava kütlesinin hızlı bir biçimde dönerek yükselmesi sonucu  ne oluşur?\n",
      "Zararlılarla mücadele için çeşitli ilaçların kullanılmaması tarımı nasıl etkiler?\n",
      "Uzun süreli kuru hava durumunda su kaynaklarına ne olur?\n",
      "Kuru hava uzun süre devam ederse su kaynaklarına ne olur?\n",
      "Tarımsal ham maddeyi işleyen hazırlayan muhafaza eden ve ambalajlayan bir sanayi dalına ne ad verilir?\n",
      "Su altında bırakılmış tarlalar verilen ad nedir?\n",
      "Strabon'un Geographika eseri ne ile ilgilidir?\n",
      "Strabon'un Geographika eserinin konusu nedir?\n",
      "Ekvator'dan kutuplara doğru gidildikçe basınç nasıl değişir?\n",
      "İç püskürük kayaçlarına örnek nelerdir?\n",
      "Tektonik kırılma sonucunda çöken kısımlara ne isim verilir?\n",
      "Kısa ve serin geçen yaz döneminde yeşeren otlara ne denir?\n",
      "Atıkların birtakım işlemlerden geçirildikten sonra ikinci bir ham madde özelliği kazanmasını sağlayan işleme ne nedir?\n",
      "Savan ikliminin bitki örtüsü nedir?\n",
      "Akarsu, tatlı su gölleri ve baraj göllerinde yapılan balıkçılık faaliyetlerine ne denir?\n",
      "Dünyanın giderek artan enerji ihtiyacını çevreyi kirletmeden ve sürdürülebilir şekilde karşılayabilecek en ileri teknoloji sistemi nedir?\n",
      "Barınma ya da belirli faaliyetleri sürdürme amacı ile bir alanda inşa edilen, bir veya birden fazla konuttan oluşan birim nedir?\n",
      "İnsanların yeryüzündeki doğal ortam ile etkileşiminin en önemli göstergelerinden biri nedir?\n",
      "Türkiye'nin en uzun fay hattı nedir?\n",
      "Avrupa Ekonomik Topluluğu (Avrupa Birliği) ülkelerinin tek para ve tek bayrak kullanması, sınırların kaldırılması ve askerî bakımdan güvenliğin sağlanması amaçlayan antlaşma nedir?\n",
      "Tropikal kuşaktaki okyanuslarda çok yüksek hızda kendi etrafında dönerek esen rüzgârlara ne ad verilir?\n",
      "Uzak geçmişteki iklimlerin incelenmesine ne ad verilir?\n",
      "Karışıklığın hüküm sürdüğü dönemlerde insanların yerleşmede önceliği ne olmuştur?\n",
      "İl ya da ilçe merkezi olmayan ancak belediye örgütlü yerleşme nedir?\n",
      "Yağmur suyu kayaçlarla etkileşime geçtiğinde neye sebep olur?\n",
      "Kayaçlar ve yağmur suyu etkileştiğinde neye sebep olurlar?\n",
      "Ağrı, Ardahan, Bingöl, Bitlis, Elazığ, Erzincan, Erzurum, Hakkâri, Iğdır, Kars, Malatya, Muş, Tunceli, Van ve Sivas illerini kapsayan bölgesel kalkınma projesi nedir?\n",
      "Işığın yer, miktar, yön ve zamanlama olarak yanlış kullanımı sonucu ortaya çıkan çevre sorunu nedir?\n",
      "Bitkilerle beslenen tüketicilere ne denir?\n",
      "Mevcut olan işleyişin üzerine yeni yaklaşımlar kazandırmaya ne denir?\n",
      "Halihazırdaki işleyişe yeni yaklaşımlar getirmeye ne ad verilir?\n",
      "Asya Kıtası'nda yer alan Hazar Gölü'nün yüzey alanı nedir?\n",
      "Tarım faaliyetlerinin artması civardaki sanayii faaliyetlerini nasıl etkiler?\n",
      "Ozon tabakasının seyrelmesi, neyin etkisiyle gerçekleşir?\n",
      "Merkezi püskürmeler sonucu oluşan şekiller nelerdir?\n",
      "Genellikle kurak bölgelerde yetiştiriciliği yapılan ve yer altındaki tuzlu suyla beslenme özelliği kazanmış olan ağaç türü nedir?\n",
      "İnsanların yerleşik hayata geçişi hangi faaliyetlerin başlamasıyla olmuştur?\n",
      "15 Temmuz Şehitler Köprüsü'nün hizmete açılış tarihi nedir?\n",
      "Coğrafi Keşifler ile İpek ve Baharat yolları önemi nasıl değişmiştir?\n",
      "Pangeayı çevreleyen okyanusun ismi nedir?\n",
      "Tarım alanlarının sürülerek bir veya iki yıl dinlenmesi için boş bırakılmasına ne denir?\n",
      "Yeryüzünün ilk kıvrım dağları nelerdir?\n",
      "Son yıllarda yapay ipek üretiminin artmasına bağlı olarak Türkiye'de ipek böceği yetiştiriciliği nasıl değişmiştir?\n",
      "Akarsuların taşıdığı alüvyonlarla akarsu yatağı, koy veya körfezin önünün kapanması sonucu oluşan göllere ne ad verilir?\n",
      "Ülkenin gelişmişlik düzeyi kaynakların kullanımını nasıl etkiler?\n",
      "Ülkenin refah düzeyinin artması doğal kaynakların kullanımına nasıl bir etkide bulunur?\n",
      "Bazı volkanlara ait kraterlerin patlama ve çökmelerle genişlemesi sonucu oluşan çanaklarda suların birikmesiyle meydana gelen göle ne ad verilir?\n",
      "Ekosistemdeki canlı unsurlara ne denir?\n",
      "Ormanlardan daha çok faydalanılmasını ne ile sağlanabilir?\n",
      "Ormanlardan elde edilen gelir neyle arttırılabilir?\n",
      "Türkiye'de iç göçlerin 1950 yılından sonra artış göstermesinin sebebi nedir?\n",
      "1950 sonrası Türkiye'de iç göçlerin artmasının sebebi nedir?\n",
      "Çayır ve meraların bir bölümünün tarım alanına çevrilmesi, hayvancılığı nasıl etkiler?\n",
      "Geniş yer kabuğu parçalarının yükselip alçalması nedir?\n",
      "Türkiye'de Linyit çıkarılan önemli yerler nerelerdir?\n",
      "Kolüvyal topraklarıun su tutma kapasitesi nasıldır?\n",
      "Yer kabuğu nelerden oluşur?\n",
      "Nüfusun miktarına ve niteliğine yönelik alınabilecek önlemlere ne denir?\n",
      "Petrol taşımasının yapıldığı Basra Körfezi'ni Hint Okyanusu'na bağlayan boğazın adı nedir?\n",
      "Maddelerin ekosistemdeki dolaşımına ne denir?\n",
      "Ilıman karasal iklimde yazları nasıl geçer?\n",
      "Önemli yer altı kaynaklarına bağlı olarak gelişen şehirlere ne ad verilir?\n",
      "İdari olarak köylere bağlı olan yerleşim birimlerine ne ad verilir?\n",
      "Sulak alanların kullanımı ne tür sorunlara yol açmaktadır?\n",
      "İstanbul Boğazı'ndaki deniz trafiğini rahatlatmak amacıyla Karadeniz ile Marmara Denizi arasına yapılması planlanan nedir?\n",
      "Eğitim imkanları artan merkezlere gelen nüfus şehirleşmeyi nasıl etkiler?\n",
      "Atmosferde toz, duman, gaz, su buharı şeklindeki kirleticilerin, insan ve diğer canlılara zarar verecek düzeye erişmesine ne ad verilir?\n"
     ]
    }
   ],
   "source": [
    "for t in q_class[\"Description\"]:\n",
    "    print(t[0].text.text)"
   ]
  },
  {
   "cell_type": "code",
   "execution_count": 419,
   "metadata": {
    "ExecuteTime": {
     "end_time": "2019-05-24T22:33:49.576255Z",
     "start_time": "2019-05-24T22:33:49.570531Z"
    }
   },
   "outputs": [],
   "source": [
    "def print_relations_root(sent):\n",
    "    root_idx = -1\n",
    "    for word in sent.words:\n",
    "        if word.dependency_relation == \"root\":\n",
    "            print(\"Root:\", word.text)\n",
    "            root_idx = int(word.index)\n",
    "\n",
    "    for word in sent.words:\n",
    "        if word.governor == root_idx:\n",
    "            print(word.text, \"relation\", word.dependency_relation)"
   ]
  },
  {
   "cell_type": "code",
   "execution_count": 420,
   "metadata": {
    "ExecuteTime": {
     "end_time": "2019-05-24T22:33:49.893067Z",
     "start_time": "2019-05-24T22:33:49.888715Z"
    }
   },
   "outputs": [],
   "source": [
    "def find_type_focus_dep(question):\n",
    "    q_type = find_q_type(question)\n",
    "    parsed_q = nlp(question)\n",
    "    q_focus = find_q_focus(parsed_q)\n",
    "    q_dep = parsed_q.sentences[0].dependencies\n",
    "    \n",
    "    return q_type, q_focus, parsed_q"
   ]
  },
  {
   "cell_type": "code",
   "execution_count": 421,
   "metadata": {
    "ExecuteTime": {
     "end_time": "2019-05-24T22:33:50.140958Z",
     "start_time": "2019-05-24T22:33:50.136312Z"
    }
   },
   "outputs": [],
   "source": [
    "def construct_bigrams(words):\n",
    "    word_list = [word.text for word in words]\n",
    "    word_list.insert(0, \"ROOT\")\n",
    "    return [\n",
    "        (word_list[int(word.index)], word.dependency_relation, word_list[word.governor])\n",
    "        for word in words\n",
    "    ]"
   ]
  },
  {
   "cell_type": "code",
   "execution_count": 422,
   "metadata": {
    "ExecuteTime": {
     "end_time": "2019-05-24T22:33:50.373261Z",
     "start_time": "2019-05-24T22:33:50.369951Z"
    }
   },
   "outputs": [],
   "source": [
    "def s(a, b):\n",
    "    if a == b:\n",
    "        return 1\n",
    "    else:\n",
    "        return 0"
   ]
  },
  {
   "cell_type": "code",
   "execution_count": 423,
   "metadata": {
    "ExecuteTime": {
     "end_time": "2019-05-24T22:33:50.618606Z",
     "start_time": "2019-05-24T22:33:50.615758Z"
    }
   },
   "outputs": [],
   "source": [
    "theta = 2"
   ]
  },
  {
   "cell_type": "code",
   "execution_count": 535,
   "metadata": {
    "ExecuteTime": {
     "end_time": "2019-05-24T22:58:20.087178Z",
     "start_time": "2019-05-24T22:58:20.083533Z"
    }
   },
   "outputs": [],
   "source": [
    "def q(a, b):\n",
    "    if a == b:\n",
    "        return theta\n",
    "    else:\n",
    "        return 1"
   ]
  },
  {
   "cell_type": "code",
   "execution_count": 425,
   "metadata": {
    "ExecuteTime": {
     "end_time": "2019-05-24T22:33:51.142848Z",
     "start_time": "2019-05-24T22:33:51.138886Z"
    }
   },
   "outputs": [],
   "source": [
    "def sim(bigram1, bigram2):\n",
    "    dep_1, type_1, head_1 = bigram1\n",
    "    dep_2, type_2, head_2 = bigram2\n",
    "    \n",
    "    return (s(dep_1, dep_2) + s(head_1, head_2)) * q(type_1, type_2)"
   ]
  },
  {
   "cell_type": "code",
   "execution_count": 426,
   "metadata": {
    "ExecuteTime": {
     "end_time": "2019-05-24T22:33:51.364257Z",
     "start_time": "2019-05-24T22:33:51.359155Z"
    }
   },
   "outputs": [],
   "source": [
    "def calculate_tree_distance(sentence, parsed_question):\n",
    "    sent_bigrams = construct_bigrams(sentence.words)\n",
    "    quest_bigrams = construct_bigrams(parsed_question.sentences[0].words)\n",
    "\n",
    "    score = 0\n",
    "    for sent_bigram in sent_bigrams:\n",
    "        for quest_bigram in quest_bigrams:\n",
    "            score += sim(sent_bigram, quest_bigram)\n",
    "\n",
    "    return score / (len(sent_bigrams) + len(quest_bigrams))"
   ]
  },
  {
   "cell_type": "code",
   "execution_count": 542,
   "metadata": {
    "ExecuteTime": {
     "end_time": "2019-05-24T23:07:01.121478Z",
     "start_time": "2019-05-24T23:07:01.116327Z"
    }
   },
   "outputs": [],
   "source": [
    "def calculate_focus_score(sentence, question_focus):\n",
    "    score = 0\n",
    "    sentence_lemmas = [word.lemma for word in sentence.words]\n",
    "    for lemma in question_focus.split():\n",
    "        if lemma in sentence_lemmas:\n",
    "            score += 1\n",
    "\n",
    "    return score / len(question_focus) if question_focus else 0"
   ]
  },
  {
   "cell_type": "code",
   "execution_count": 543,
   "metadata": {
    "ExecuteTime": {
     "end_time": "2019-05-24T23:07:01.790757Z",
     "start_time": "2019-05-24T23:07:01.786470Z"
    }
   },
   "outputs": [],
   "source": [
    "def calculate_overall_scores(tree_dists, focus_scores):\n",
    "    return [0.8 * tree_dist + 0.2 * focus_score for tree_dist, focus_score in zip(tree_dists, focus_scores)]"
   ]
  },
  {
   "cell_type": "code",
   "execution_count": 544,
   "metadata": {
    "ExecuteTime": {
     "end_time": "2019-05-24T23:07:05.526914Z",
     "start_time": "2019-05-24T23:07:05.523033Z"
    }
   },
   "outputs": [],
   "source": [
    "def check_word_in_question(word, question):\n",
    "    return word.text.casefold() in question.casefold() # \\\n",
    "           # or word.lemma.casefold() in question.casefold()"
   ]
  },
  {
   "cell_type": "code",
   "execution_count": 545,
   "metadata": {
    "ExecuteTime": {
     "end_time": "2019-05-24T23:07:06.251986Z",
     "start_time": "2019-05-24T23:07:06.248102Z"
    }
   },
   "outputs": [],
   "source": [
    "def contains_eachother(word1, word2):\n",
    "    return word1.text in word2.text or word2.text in word1.text \\\n",
    "           or word1.lemma in word2.lemma or word2.lemma in word1.lemma"
   ]
  },
  {
   "cell_type": "code",
   "execution_count": 603,
   "metadata": {
    "ExecuteTime": {
     "end_time": "2019-05-24T23:28:38.753330Z",
     "start_time": "2019-05-24T23:28:38.747224Z"
    }
   },
   "outputs": [],
   "source": [
    "def extract_answer_with_idx(sentence, idx, question):\n",
    "    return \" \".join([word.text.casefold() for word in sentence.words if (word.text.casefold() not in question.casefold() or word.dependency_relation == \"nsubj\") and int(word.index) in idx and word.upos != \"PUNCT\"])"
   ]
  },
  {
   "cell_type": "code",
   "execution_count": 604,
   "metadata": {
    "ExecuteTime": {
     "end_time": "2019-05-24T23:28:39.057733Z",
     "start_time": "2019-05-24T23:28:39.053281Z"
    }
   },
   "outputs": [],
   "source": [
    "def extract_answer_from_whole_sent(sentence, question):\n",
    "    return \" \".join([word.text.casefold() for word in sentence.words if word.text.casefold() not in question.casefold() and word.upos != \"PUNCT\"])"
   ]
  },
  {
   "cell_type": "code",
   "execution_count": 634,
   "metadata": {
    "ExecuteTime": {
     "end_time": "2019-05-24T23:35:38.552731Z",
     "start_time": "2019-05-24T23:35:38.548114Z"
    }
   },
   "outputs": [],
   "source": [
    "def entity_answer_extractor(sentence, parsed_question):            \n",
    "    subject_idx = find_subject(sentence)\n",
    "    related_idx = find_related_words(sentence, subject_idx)\n",
    "    \n",
    "    if related_idx:\n",
    "        return extract_answer_with_idx(sentence, related_idx, parsed_question.text)\n",
    "    else:\n",
    "        return extract_answer_from_whole_sent(sentence, parsed_question.text)"
   ]
  },
  {
   "cell_type": "code",
   "execution_count": 637,
   "metadata": {
    "ExecuteTime": {
     "end_time": "2019-05-24T23:45:58.747245Z",
     "start_time": "2019-05-24T23:45:58.735243Z"
    }
   },
   "outputs": [],
   "source": [
    "def description_answer_extractor(sentence, parsed_question):\n",
    "    return entity_answer_extractor(sentence, parsed_question)"
   ]
  },
  {
   "cell_type": "code",
   "execution_count": 673,
   "metadata": {
    "ExecuteTime": {
     "end_time": "2019-05-24T23:51:58.281594Z",
     "start_time": "2019-05-24T23:51:58.272112Z"
    }
   },
   "outputs": [],
   "source": [
    "def location_answer_extractor(sentence, parsed_question):\n",
    "    question_sent = parsed_question.sentences[0]\n",
    "    sent_root_idx = find_root(sentence)\n",
    "    quest_root_idx = find_root(question_sent)\n",
    "    root = sentence.words[sent_root_idx - 1]\n",
    "    \n",
    "    if contains_eachother(sentence.words[sent_root_idx - 1], question_sent.words[quest_root_idx - 1]):\n",
    "        if root.upos == \"VERB\":\n",
    "            idx = []\n",
    "            left_child = find_left_child(sentence, sent_root_idx)\n",
    "            if left_child > 0:\n",
    "                idx.append(left_child)\n",
    "                idx = find_related_words(sentence, idx)\n",
    "            \n",
    "            amods = find_relation(sentence, sent_root_idx, \"amod\")\n",
    "            if amods:\n",
    "                for i in amods:\n",
    "                    if i not in idx:\n",
    "                        idx.append(i)\n",
    "                \n",
    "                idx = find_related_words(sentence, idx)\n",
    "            \n",
    "            if idx:\n",
    "                return construct_answer_from_idx(sentence, idx)\n",
    "\n",
    "    return extract_answer_from_whole_sent(sentence, parsed_question.text)\n",
    "                "
   ]
  },
  {
   "cell_type": "code",
   "execution_count": 790,
   "metadata": {
    "ExecuteTime": {
     "end_time": "2019-05-25T00:30:30.407561Z",
     "start_time": "2019-05-25T00:30:30.403742Z"
    }
   },
   "outputs": [],
   "source": [
    "def reconstruct_sentence(sentence):\n",
    "    return \" \".join([word.text for word in sentence.words])"
   ]
  },
  {
   "cell_type": "code",
   "execution_count": 1082,
   "metadata": {
    "ExecuteTime": {
     "end_time": "2019-05-25T01:20:40.150437Z",
     "start_time": "2019-05-25T01:20:40.069332Z"
    }
   },
   "outputs": [],
   "source": [
    "def temporal_answer_extractor(sentence, parsed_question):\n",
    "    words = sentence.words\n",
    "    sent = reconstruct_sentence(sentence)\n",
    "    if \"yıl\" in parsed_question.text.casefold() or \"yıl\" in sent:\n",
    "        for word in words:\n",
    "            if word.dependency_relation in [\"nummod\", \"nmod:poss\"] and word.upos == \"NUM\":\n",
    "                if word.dependency_relation == \"nummod\":\n",
    "                    return word.lemma\n",
    "                else:\n",
    "                    return word.text\n",
    "    \n",
    "    def find_temporal_phrase(temp_keyword):\n",
    "        if temp_keyword in parsed_question.text.casefold():\n",
    "            for word in words:\n",
    "                if temp_keyword in word.text.casefold():\n",
    "                    pattern = \"(\\w+\\s+\" + temp_keyword + \")\"\n",
    "                    pat = re.compile(pattern, re.IGNORECASE)\n",
    "                    sent = reconstruct_sentence(sentence)\n",
    "                    all_ = pat.findall(sent)\n",
    "                    if all_:\n",
    "                        return all_\n",
    "                    \n",
    "        return None\n",
    "                        \n",
    "    donem = find_temporal_phrase(\"dönem\")\n",
    "    if donem:\n",
    "        return \" \".join(donem)\n",
    "    \n",
    "    cag = find_temporal_phrase(\"çağ\")\n",
    "    if cag:\n",
    "        return \" \".join(cag)\n",
    "    \n",
    "    yuzyil = find_temporal_phrase(\"yüzyıl\")\n",
    "    if yuzyil:\n",
    "        return \" \".join(yuzyil)\n",
    "                \n",
    "        \n",
    "    return extract_answer_from_whole_sent(sentence, parsed_question.text)"
   ]
  },
  {
   "cell_type": "code",
   "execution_count": 1129,
   "metadata": {
    "ExecuteTime": {
     "end_time": "2019-05-25T01:29:08.912713Z",
     "start_time": "2019-05-25T01:29:08.899210Z"
    }
   },
   "outputs": [],
   "source": [
    "def human_answer_extractor(sentence, parsed_question):\n",
    "    subj = find_subject(sentence)\n",
    "    if subj:\n",
    "        return extract_answer_with_idx(sentence, subj, parsed_question.text)\n",
    "    \n",
    "    root = find_root(sentence)\n",
    "    obj = find_relation(sentence, root, \"obj\")\n",
    "    if obj:\n",
    "        return extract_answer_with_idx(sentence, subj, parsed_question.text)\n",
    "\n",
    "    return extract_answer_from_whole_sent(sentence, parsed_question.text)\n",
    "        "
   ]
  },
  {
   "cell_type": "code",
   "execution_count": 1130,
   "metadata": {
    "ExecuteTime": {
     "end_time": "2019-05-25T01:29:09.727497Z",
     "start_time": "2019-05-25T01:29:09.722701Z"
    }
   },
   "outputs": [],
   "source": [
    "def numeric_answer_extractor(sentence, parsed_question):\n",
    "    candidate = extract_answer_from_whole_sent(sentence, parsed_question.text)\n",
    "    pat = re.compile(r\"(%?\\d+)\")\n",
    "    all_ = pat.findall(candidate)\n",
    "    if all_:\n",
    "        return \" \".join(all_)\n",
    "    \n",
    "    return candidate"
   ]
  },
  {
   "cell_type": "code",
   "execution_count": 1232,
   "metadata": {
    "ExecuteTime": {
     "end_time": "2019-05-25T01:44:52.448244Z",
     "start_time": "2019-05-25T01:44:52.444311Z"
    }
   },
   "outputs": [],
   "source": [
    "def yes_no_answer_extractor(sentence, parsed_question):\n",
    "    for word in sentence.words:\n",
    "        if \"Polarity=Neg\" in word.feats:\n",
    "            return \"hayır\"\n",
    "        \n",
    "    return \"evet\""
   ]
  },
  {
   "cell_type": "code",
   "execution_count": 1233,
   "metadata": {
    "ExecuteTime": {
     "end_time": "2019-05-25T01:44:52.814073Z",
     "start_time": "2019-05-25T01:44:52.810877Z"
    }
   },
   "outputs": [],
   "source": [
    "def other_answer_extractor(sentence, parsed_question):\n",
    "    return extract_answer_from_whole_sent(sentence, parsed_question.text)"
   ]
  },
  {
   "cell_type": "code",
   "execution_count": 1234,
   "metadata": {
    "ExecuteTime": {
     "end_time": "2019-05-25T01:44:53.456944Z",
     "start_time": "2019-05-25T01:44:53.451561Z"
    }
   },
   "outputs": [],
   "source": [
    "answer_extractors = {\n",
    "    \"Entity\": entity_answer_extractor,\n",
    "    \"Location\" : location_answer_extractor,\n",
    "    \"Temporal\": temporal_answer_extractor,\n",
    "    \"Human\": human_answer_extractor,\n",
    "    \"Description\": description_answer_extractor,\n",
    "    \"Numeric\": numeric_answer_extractor,\n",
    "    \"YesNo\": yes_no_answer_extractor,\n",
    "    \"Other\": other_answer_extractor,\n",
    "}\n",
    "\n",
    "def get_answer(question_type, sentence, parsed_question):\n",
    "    answer_extractor = answer_extractors[question_type]\n",
    "    \n",
    "    return answer_extractor(sentence, parsed_question)"
   ]
  },
  {
   "cell_type": "code",
   "execution_count": 1235,
   "metadata": {
    "ExecuteTime": {
     "end_time": "2019-05-25T01:44:56.489200Z",
     "start_time": "2019-05-25T01:44:56.482881Z"
    }
   },
   "outputs": [],
   "source": [
    "def extract_answer(passage, question_type, question_focus, parsed_question):\n",
    "    parsed_pas = nlp(passage)\n",
    "    tree_dists = []\n",
    "    for sentence in parsed_pas.sentences:\n",
    "        tree_dists.append(calculate_tree_distance(sentence, parsed_question))\n",
    "    \n",
    "    focus_scores = []\n",
    "    for sentence in parsed_pas.sentences:\n",
    "        focus_scores.append(calculate_focus_score(sentence, question_focus))\n",
    "\n",
    "    scores = calculate_overall_scores(tree_dists, focus_scores)\n",
    "    idx = scores.index(max(scores))\n",
    "\n",
    "    answer = get_answer(question_type, parsed_pas.sentences[idx], parsed_question)\n",
    "    \n",
    "    return answer"
   ]
  },
  {
   "cell_type": "code",
   "execution_count": 1236,
   "metadata": {
    "ExecuteTime": {
     "end_time": "2019-05-25T01:44:56.798442Z",
     "start_time": "2019-05-25T01:44:56.794527Z"
    }
   },
   "outputs": [],
   "source": [
    "def find_answer(question, passage):\n",
    "    question_type, question_focus, parsed_question = find_type_focus_dep(question)\n",
    "    answer = extract_answer(passage, question_type, question_focus, parsed_question)\n",
    "    \n",
    "    return answer"
   ]
  },
  {
   "cell_type": "code",
   "execution_count": 1237,
   "metadata": {
    "ExecuteTime": {
     "end_time": "2019-05-25T01:44:58.734559Z",
     "start_time": "2019-05-25T01:44:58.531482Z"
    }
   },
   "outputs": [
    {
     "name": "stdout",
     "output_type": "stream",
     "text": [
      "('Buğdaya', '10', 'obl')\n",
      "('göre', '1', 'case')\n",
      "('soğuğa', '10', 'amod')\n",
      "('ve', '5', 'cc')\n",
      "('kuraklığa', '3', 'conj')\n",
      "('daha', '7', 'advmod')\n",
      "('dayanık', '0', 'root')\n",
      "('lı', '7', 'case')\n",
      "('dır', '7', 'cop')\n",
      "('.', '7', 'punct')\n",
      "1 Buğdaya buğda Noun 10 obl Case=Dat|Number=Sing|Person=3\n",
      "2 göre göre PCDat 1 case _\n",
      "3 soğuğa soğuk NAdj 10 amod Case=Dat|Number=Sing|Person=3\n",
      "4 ve ve Conj 5 cc _\n",
      "5 kuraklığa kuraklık Noun 3 conj Case=Dat|Number=Sing|Person=3\n",
      "6 daha daha Adverb 7 advmod _\n",
      "7 dayanık dayanık Noun 0 root Case=Nom|Number=Sing|Person=3\n",
      "8 lı li With 7 case _\n",
      "9 dır i Zero 7 cop Aspect=Perf|Mood=Gen|Number=Sing|Person=3|Tense=Pres\n",
      "10 . . Punc 7 punct _\n",
      "('Arpa', '2', 'nmod')\n",
      "('buğdaya', '10', 'nmod')\n",
      "('göre', '2', 'case')\n",
      "('soğuğa', '8', 'amod')\n",
      "('ve', '6', 'cc')\n",
      "('kuraklığa', '4', 'conj')\n",
      "('daha', '8', 'advmod')\n",
      "('az', '10', 'advmod')\n",
      "('mı', '8', 'aux:q')\n",
      "('dayanık', '0', 'root')\n",
      "('lı', '10', 'case')\n",
      "('?', '10', 'punct')\n",
      "Arpa Noun Case=Nom|Number=Sing|Person=3\n",
      "buğdaya Noun Case=Dat|Number=Sing|Person=3\n",
      "göre PCDat _\n",
      "soğuğa NAdj Case=Dat|Number=Sing|Person=3\n",
      "ve Conj _\n",
      "kuraklığa Noun Case=Dat|Number=Sing|Person=3\n",
      "daha Adverb _\n",
      "az Adverb _\n",
      "mı Ques Aspect=Perf|Mood=Ind|Number=Sing|Person=3|Tense=Pres\n",
      "dayanık Noun Case=Nom|Number=Sing|Person=3\n",
      "lı With _\n",
      "? Punc _\n"
     ]
    }
   ],
   "source": [
    "class_type = \"YesNo\"\n",
    "\n",
    "answers = {}\n",
    "for q_, a, p_idx in q_class[class_type]:\n",
    "    answers.setdefault(a.text, []).append((q_, a, p_idx))\n",
    "\n",
    "qq, a, p_idx = q_class[class_type][1]# q_class[\"Reason\"][55]\n",
    "p = passages[p_idx]\n",
    "\n",
    "q_type, q_focus, parsed_q = find_type_focus_dep(qq.text.text)\n",
    "\n",
    "sentences = p.sentences\n",
    "\n",
    "tree_dists = [calculate_tree_distance(sentence, qq.text) for sentence in sentences]\n",
    "focus_scores = [calculate_focus_score(sentence, q_focus) for sentence in sentences]\n",
    "\n",
    "scores = calculate_overall_scores(tree_dists, focus_scores)\n",
    "\n",
    "max_idx = scores.index(max(scores))\n",
    "\n",
    "sentences[max_idx].print_dependencies()\n",
    "for word in sentences[max_idx].words:\n",
    "    print(word.index, word.text, word.lemma, word.xpos, word.governor, word.dependency_relation, word.feats)\n",
    "\n",
    "qq.text.sentences[0].print_dependencies()\n",
    "for word in qq.text.sentences[0].words:\n",
    "    print(word.text, word.pos, word.feats)"
   ]
  },
  {
   "cell_type": "code",
   "execution_count": 1222,
   "metadata": {
    "ExecuteTime": {
     "end_time": "2019-05-25T01:44:01.432787Z",
     "start_time": "2019-05-25T01:44:01.428223Z"
    }
   },
   "outputs": [
    {
     "data": {
      "text/plain": [
       "'Arpanın (Fotoğraf 2.71) yetişme koşulları da buğdayınkine benzer. Bu nedenle Doğu Karadeniz kıyısı dışındaki hemen her yerde yetiştirilir. Buğdaya göre soğuğa ve kuraklığa daha dayanıklıdır. Arpa daha çok bira sanayisinde ve hayvan yemi olarak kullanılmaktadır.'"
      ]
     },
     "execution_count": 1222,
     "metadata": {},
     "output_type": "execute_result"
    }
   ],
   "source": [
    "p.text"
   ]
  },
  {
   "cell_type": "code",
   "execution_count": 1223,
   "metadata": {
    "ExecuteTime": {
     "end_time": "2019-05-25T01:44:02.557425Z",
     "start_time": "2019-05-25T01:44:01.977904Z"
    }
   },
   "outputs": [
    {
     "data": {
      "text/plain": [
       "'evet'"
      ]
     },
     "execution_count": 1223,
     "metadata": {},
     "output_type": "execute_result"
    }
   ],
   "source": [
    "find_answer(qq.text.text, p.text)"
   ]
  },
  {
   "cell_type": "code",
   "execution_count": 1224,
   "metadata": {
    "ExecuteTime": {
     "end_time": "2019-05-25T01:44:02.565906Z",
     "start_time": "2019-05-25T01:44:02.560582Z"
    }
   },
   "outputs": [
    {
     "data": {
      "text/plain": [
       "'Arpa buğdaya göre soğuğa ve kuraklığa daha az mı dayanıklı?'"
      ]
     },
     "execution_count": 1224,
     "metadata": {},
     "output_type": "execute_result"
    }
   ],
   "source": [
    "qq.text.text"
   ]
  },
  {
   "cell_type": "code",
   "execution_count": 1225,
   "metadata": {
    "ExecuteTime": {
     "end_time": "2019-05-25T01:44:03.960836Z",
     "start_time": "2019-05-25T01:44:03.956245Z"
    }
   },
   "outputs": [
    {
     "data": {
      "text/plain": [
       "'Hayır'"
      ]
     },
     "execution_count": 1225,
     "metadata": {},
     "output_type": "execute_result"
    }
   ],
   "source": [
    "a.text"
   ]
  },
  {
   "cell_type": "code",
   "execution_count": 1226,
   "metadata": {
    "ExecuteTime": {
     "end_time": "2019-05-25T01:44:08.390815Z",
     "start_time": "2019-05-25T01:44:08.380435Z"
    }
   },
   "outputs": [],
   "source": [
    "import string\n",
    "\n",
    "import os\n",
    "from pathlib import Path\n",
    "import subprocess\n",
    "import numpy as np\n",
    "import pandas as pd\n",
    "from sklearn.metrics import accuracy_score\n",
    "from nltk import jaccard_distance\n",
    "#%%\n",
    "def preprocess_answer(answer):\n",
    "    tokens = answer.split()\n",
    "    normalized_tokens = []\n",
    "    for token in tokens:\n",
    "        if not any(char.isdigit() for char in token):\n",
    "            normalized_tokens.append(token.lower().translate(\n",
    "                    str.maketrans('', '', string.punctuation)))\n",
    "        else:\n",
    "            normalized_tokens.append(token)\n",
    "    return ' '.join(normalized_tokens)\n",
    "#%%\n",
    "def word_to_bigrams(word):\n",
    "    return {word[i:i+2] for i in range(len(word)-1)}\n",
    "#%%\n",
    "def jaccard_score(answers, preds):\n",
    "    return np.mean([1 - jaccard_distance(word_to_bigrams(answer), word_to_bigrams(pred))\n",
    "                for answer, pred in zip(answers, preds) if len(pred) > 1])    "
   ]
  },
  {
   "cell_type": "code",
   "execution_count": 1227,
   "metadata": {
    "ExecuteTime": {
     "end_time": "2019-05-25T01:44:17.918798Z",
     "start_time": "2019-05-25T01:44:13.444554Z"
    }
   },
   "outputs": [],
   "source": [
    "preds = []\n",
    "answers = []\n",
    "for q_, a, p_id in q_class[\"YesNo\"][:10]:\n",
    "    if p_id is None:\n",
    "        continue\n",
    "    preds.append(find_answer(q_.text.text, passages[p_id]))\n",
    "    answers.append(a.text)"
   ]
  },
  {
   "cell_type": "code",
   "execution_count": 1228,
   "metadata": {
    "ExecuteTime": {
     "end_time": "2019-05-25T01:44:18.920140Z",
     "start_time": "2019-05-25T01:44:18.915616Z"
    }
   },
   "outputs": [],
   "source": [
    "preds = [preprocess_answer(a) if a else a for a in preds]\n",
    "answers = [preprocess_answer(a) for a in answers]"
   ]
  },
  {
   "cell_type": "code",
   "execution_count": 1229,
   "metadata": {
    "ExecuteTime": {
     "end_time": "2019-05-25T01:44:19.561270Z",
     "start_time": "2019-05-25T01:44:19.556039Z"
    }
   },
   "outputs": [
    {
     "data": {
      "text/plain": [
       "[('evet', 'evet'),\n",
       " ('hayır', 'evet'),\n",
       " ('etkilenir', 'evet'),\n",
       " ('hayır', 'evet'),\n",
       " ('hayır', 'hayır'),\n",
       " ('değişebilir', 'evet'),\n",
       " ('hayır', 'hayır')]"
      ]
     },
     "execution_count": 1229,
     "metadata": {},
     "output_type": "execute_result"
    }
   ],
   "source": [
    "list(zip(answers, preds))"
   ]
  },
  {
   "cell_type": "code",
   "execution_count": 1230,
   "metadata": {
    "ExecuteTime": {
     "end_time": "2019-05-25T01:44:23.577653Z",
     "start_time": "2019-05-25T01:44:23.571815Z"
    }
   },
   "outputs": [
    {
     "data": {
      "text/plain": [
       "0.42857142857142855"
      ]
     },
     "execution_count": 1230,
     "metadata": {},
     "output_type": "execute_result"
    }
   ],
   "source": [
    "accuracy_score(answers, preds)"
   ]
  },
  {
   "cell_type": "code",
   "execution_count": 1231,
   "metadata": {
    "ExecuteTime": {
     "end_time": "2019-05-25T01:44:24.528669Z",
     "start_time": "2019-05-25T01:44:24.523594Z"
    }
   },
   "outputs": [
    {
     "data": {
      "text/plain": [
       "0.4428571428571429"
      ]
     },
     "execution_count": 1231,
     "metadata": {},
     "output_type": "execute_result"
    }
   ],
   "source": [
    "jaccard_score(answers, preds)"
   ]
  },
  {
   "cell_type": "code",
   "execution_count": 1238,
   "metadata": {
    "ExecuteTime": {
     "end_time": "2019-05-25T01:45:31.776462Z",
     "start_time": "2019-05-25T01:45:31.763969Z"
    }
   },
   "outputs": [],
   "source": [
    "TEST_PASSAGES_PATH = \"../evaluation/test_data/task1_answers.txt\"\n",
    "TEST_QUESTIONS_PATH = \"../evaluation/test_data/test_questions.txt\"\n",
    "TEST_ANSWERS_PATH = \"../evaluation/test_data/task2_answers.txt\""
   ]
  },
  {
   "cell_type": "code",
   "execution_count": 1239,
   "metadata": {
    "ExecuteTime": {
     "end_time": "2019-05-25T01:45:46.632508Z",
     "start_time": "2019-05-25T01:45:46.619529Z"
    }
   },
   "outputs": [],
   "source": [
    "with open(TEST_PASSAGES_PATH, \"rb\") as f:\n",
    "    idx = f.read().decode(\"utf-16\").split()"
   ]
  },
  {
   "cell_type": "code",
   "execution_count": 1240,
   "metadata": {
    "ExecuteTime": {
     "end_time": "2019-05-25T01:45:58.527441Z",
     "start_time": "2019-05-25T01:45:58.515257Z"
    }
   },
   "outputs": [],
   "source": [
    "with open(TEST_QUESTIONS_PATH, \"rb\") as f:\n",
    "    questions = f.read().decode(\"utf-16\").split(\"\\r\\n\")"
   ]
  },
  {
   "cell_type": "code",
   "execution_count": 1241,
   "metadata": {
    "ExecuteTime": {
     "end_time": "2019-05-25T01:46:06.990381Z",
     "start_time": "2019-05-25T01:46:06.986987Z"
    }
   },
   "outputs": [],
   "source": [
    "idx = [int(id_) for id_ in idx]"
   ]
  },
  {
   "cell_type": "code",
   "execution_count": 1242,
   "metadata": {
    "ExecuteTime": {
     "end_time": "2019-05-25T01:46:16.321400Z",
     "start_time": "2019-05-25T01:46:16.306988Z"
    }
   },
   "outputs": [],
   "source": [
    "test_passages = {id_: passages[id_] for id_ in idx}"
   ]
  },
  {
   "cell_type": "code",
   "execution_count": 1243,
   "metadata": {
    "ExecuteTime": {
     "end_time": "2019-05-25T01:46:32.933696Z",
     "start_time": "2019-05-25T01:46:24.355454Z"
    }
   },
   "outputs": [],
   "source": [
    "predicted_answers = []\n",
    "for question, id_ in zip(questions, idx):\n",
    "    predicted_answers.append(find_answer(question, test_passages[id_].text))"
   ]
  },
  {
   "cell_type": "code",
   "execution_count": 1244,
   "metadata": {
    "ExecuteTime": {
     "end_time": "2019-05-25T01:46:45.812409Z",
     "start_time": "2019-05-25T01:46:45.802864Z"
    }
   },
   "outputs": [],
   "source": [
    "task2_preds = [preprocess_answer(answer) for answer in predicted_answers]"
   ]
  },
  {
   "cell_type": "code",
   "execution_count": 1245,
   "metadata": {
    "ExecuteTime": {
     "end_time": "2019-05-25T01:46:54.174126Z",
     "start_time": "2019-05-25T01:46:54.154574Z"
    }
   },
   "outputs": [],
   "source": [
    "with open(TEST_ANSWERS_PATH, encoding='utf16') as f:\n",
    "    task2_answers = [preprocess_answer(l) for l in f.readlines()]"
   ]
  },
  {
   "cell_type": "code",
   "execution_count": 1246,
   "metadata": {
    "ExecuteTime": {
     "end_time": "2019-05-25T01:47:01.663517Z",
     "start_time": "2019-05-25T01:47:01.657945Z"
    }
   },
   "outputs": [
    {
     "data": {
      "text/plain": [
       "0.2"
      ]
     },
     "execution_count": 1246,
     "metadata": {},
     "output_type": "execute_result"
    }
   ],
   "source": [
    "accuracy_score(task2_answers, task2_preds)"
   ]
  },
  {
   "cell_type": "code",
   "execution_count": 1247,
   "metadata": {
    "ExecuteTime": {
     "end_time": "2019-05-25T01:47:09.247501Z",
     "start_time": "2019-05-25T01:47:09.242568Z"
    }
   },
   "outputs": [
    {
     "data": {
      "text/plain": [
       "0.29799917317088964"
      ]
     },
     "execution_count": 1247,
     "metadata": {},
     "output_type": "execute_result"
    }
   ],
   "source": [
    "jaccard_score(task2_answers, task2_preds)"
   ]
  },
  {
   "cell_type": "code",
   "execution_count": 1248,
   "metadata": {
    "ExecuteTime": {
     "end_time": "2019-05-25T01:47:30.891579Z",
     "start_time": "2019-05-25T01:47:30.886344Z"
    }
   },
   "outputs": [
    {
     "data": {
      "text/plain": [
       "(['enine kıyı tipi',\n",
       "  'çamiçi gölü',\n",
       "  'asit',\n",
       "  'çöl',\n",
       "  'bandırma',\n",
       "  'azalmaktadır',\n",
       "  'bakır sattıran rüzgarlar',\n",
       "  '17',\n",
       "  '17',\n",
       "  'yelkenli gemiler'],\n",
       " ['girinti ve çıkıntının oldukça fazla olduğu kıyıları pek çok ada',\n",
       "  'gölleri koy',\n",
       "  'çin’de hayata geçirilmesi planlanan ve şehirsel hava kirliliğini ortadan kaldıracak projelerden biri olan “yüzen anası”',\n",
       "  'deve',\n",
       "  'borun bir kısmı bandırma’da bir kısmı da ihraç edilmekte',\n",
       "  'günümüzde dünya nüfusu buna karşılık içilebilir azalmaktadır',\n",
       "  'bu rüzgârlar',\n",
       "  '17',\n",
       "  '17',\n",
       "  'sistemleri yeterince gelişmediği için ulaşım'])"
      ]
     },
     "execution_count": 1248,
     "metadata": {},
     "output_type": "execute_result"
    }
   ],
   "source": [
    "task2_answers, task2_preds"
   ]
  },
  {
   "cell_type": "code",
   "execution_count": null,
   "metadata": {},
   "outputs": [],
   "source": []
  }
 ],
 "metadata": {
  "kernelspec": {
   "display_name": "Python 3",
   "language": "python",
   "name": "python3"
  },
  "language_info": {
   "codemirror_mode": {
    "name": "ipython",
    "version": 3
   },
   "file_extension": ".py",
   "mimetype": "text/x-python",
   "name": "python",
   "nbconvert_exporter": "python",
   "pygments_lexer": "ipython3",
   "version": "3.7.3"
  },
  "toc": {
   "base_numbering": 1,
   "nav_menu": {},
   "number_sections": true,
   "sideBar": true,
   "skip_h1_title": false,
   "title_cell": "Table of Contents",
   "title_sidebar": "Contents",
   "toc_cell": false,
   "toc_position": {},
   "toc_section_display": true,
   "toc_window_display": false
  }
 },
 "nbformat": 4,
 "nbformat_minor": 2
}
